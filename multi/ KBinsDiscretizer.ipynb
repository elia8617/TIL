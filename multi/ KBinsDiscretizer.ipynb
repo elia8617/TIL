{
 "cells": [
  {
   "cell_type": "code",
   "execution_count": 1,
   "id": "59e9f7c3-7713-40f1-b3b1-c76e26816da4",
   "metadata": {},
   "outputs": [],
   "source": [
    "# discretize numeric input variables\n",
    "from sklearn.datasets import make_classification\n",
    "from sklearn.preprocessing import KBinsDiscretizer\n",
    "import pandas as pd"
   ]
  },
  {
   "cell_type": "code",
   "execution_count": 2,
   "id": "322a2540-e82d-4f19-82ed-af7eaaa1f92e",
   "metadata": {},
   "outputs": [],
   "source": [
    "# define dataset\n",
    "#X, y = make_classification(n_samples=1000, n_features=5, n_informative=5, n_redundant=0,\n",
    "#random_state=1)\n",
    "\n",
    "# define dataset\n",
    "X, y = make_classification(n_samples=5000000, n_features=5, random_state=1)"
   ]
  },
  {
   "cell_type": "code",
   "execution_count": 3,
   "id": "cc650fa2-91a4-4d30-aabe-fbdd8ed86ca0",
   "metadata": {},
   "outputs": [
    {
     "name": "stdout",
     "output_type": "stream",
     "text": [
      "[[-1.68946284  0.47814224 -1.4159231  -0.9966515   0.2534083 ]\n",
      " [ 1.62396887  1.10351079  0.06765056  2.19392866  1.57927283]\n",
      " [ 0.84974941 -1.89498192 -0.83533631 -0.8068739  -2.05687097]]\n"
     ]
    }
   ],
   "source": [
    "# summarize data before the transform\n",
    "print(X[:3, :])"
   ]
  },
  {
   "cell_type": "code",
   "execution_count": 4,
   "id": "9556bd08-fce0-4e2a-9228-0d7da715c8e6",
   "metadata": {},
   "outputs": [
    {
     "data": {
      "text/plain": [
       "0.5000458"
      ]
     },
     "execution_count": 4,
     "metadata": {},
     "output_type": "execute_result"
    }
   ],
   "source": [
    "y.mean()"
   ]
  },
  {
   "cell_type": "code",
   "execution_count": 5,
   "id": "142ef952-fb24-46f2-be46-a409d1ba5741",
   "metadata": {},
   "outputs": [
    {
     "data": {
      "text/plain": [
       "array([0, 1, 1, ..., 0, 1, 1])"
      ]
     },
     "execution_count": 5,
     "metadata": {},
     "output_type": "execute_result"
    }
   ],
   "source": [
    "y"
   ]
  },
  {
   "cell_type": "code",
   "execution_count": 6,
   "id": "94641698-c853-4b46-9259-3d6504afaa98",
   "metadata": {},
   "outputs": [
    {
     "data": {
      "text/plain": [
       "array([[-1.68946284,  0.47814224, -1.4159231 , -0.9966515 ,  0.2534083 ],\n",
       "       [ 1.62396887,  1.10351079,  0.06765056,  2.19392866,  1.57927283],\n",
       "       [ 0.84974941, -1.89498192, -0.83533631, -0.8068739 , -2.05687097],\n",
       "       ...,\n",
       "       [-2.98313181, -0.13996401, -0.89621276, -2.5380213 , -0.70033113],\n",
       "       [ 1.34882703,  0.75590618,  1.15302062,  1.69520614,  1.12436846],\n",
       "       [-0.46924525,  0.55585836,  2.01784303,  0.05767987,  0.56373718]])"
      ]
     },
     "execution_count": 6,
     "metadata": {},
     "output_type": "execute_result"
    }
   ],
   "source": [
    "X"
   ]
  },
  {
   "cell_type": "code",
   "execution_count": 7,
   "id": "b423e454-e4a2-452c-baa8-fa317383117d",
   "metadata": {},
   "outputs": [
    {
     "data": {
      "text/plain": [
       "array([-1.68946284,  0.47814224, -1.4159231 , -0.9966515 ,  0.2534083 ])"
      ]
     },
     "execution_count": 7,
     "metadata": {},
     "output_type": "execute_result"
    }
   ],
   "source": [
    "X[0,:]"
   ]
  },
  {
   "cell_type": "code",
   "execution_count": 8,
   "id": "14579e40-b33f-41da-95b2-6f11bd581804",
   "metadata": {},
   "outputs": [
    {
     "data": {
      "text/plain": [
       "-8.219719039587167"
      ]
     },
     "execution_count": 8,
     "metadata": {},
     "output_type": "execute_result"
    }
   ],
   "source": [
    "X.min()"
   ]
  },
  {
   "cell_type": "code",
   "execution_count": 9,
   "id": "029b3760-e571-47f4-a59e-d69c2e3fec80",
   "metadata": {},
   "outputs": [
    {
     "data": {
      "text/plain": [
       "8.725264229850012"
      ]
     },
     "execution_count": 9,
     "metadata": {},
     "output_type": "execute_result"
    }
   ],
   "source": [
    "X.max()"
   ]
  },
  {
   "cell_type": "code",
   "execution_count": 10,
   "id": "feed2ed7-3ad9-4a00-a900-e5d490a170e2",
   "metadata": {},
   "outputs": [
    {
     "data": {
      "text/plain": [
       "(5000000, 5)"
      ]
     },
     "execution_count": 10,
     "metadata": {},
     "output_type": "execute_result"
    }
   ],
   "source": [
    "X.shape"
   ]
  },
  {
   "cell_type": "code",
   "execution_count": 11,
   "id": "35e47407-356b-4640-8c77-8637bd54d056",
   "metadata": {},
   "outputs": [
    {
     "data": {
      "text/plain": [
       "(5000000,)"
      ]
     },
     "execution_count": 11,
     "metadata": {},
     "output_type": "execute_result"
    }
   ],
   "source": [
    "y.shape"
   ]
  },
  {
   "cell_type": "code",
   "execution_count": null,
   "id": "545ddfc5-8441-4fdf-8315-73f0f37b5ef5",
   "metadata": {},
   "outputs": [],
   "source": []
  },
  {
   "cell_type": "code",
   "execution_count": 12,
   "id": "b17f248f-c9e0-4544-9d98-aa56d5896e5e",
   "metadata": {},
   "outputs": [],
   "source": [
    "# define the transform\n",
    "trans = KBinsDiscretizer(n_bins=10, encode='ordinal', strategy='uniform')"
   ]
  },
  {
   "cell_type": "code",
   "execution_count": 13,
   "id": "47e88dc4-b451-44ee-9f7b-35f6d61903b2",
   "metadata": {},
   "outputs": [
    {
     "name": "stdout",
     "output_type": "stream",
     "text": [
      "[[4. 5. 3. 4. 4.]\n",
      " [6. 5. 5. 6. 5.]\n",
      " [6. 2. 4. 4. 2.]]\n"
     ]
    }
   ],
   "source": [
    "# transform the data\n",
    "X_discrete = trans.fit_transform(X)\n",
    "\n",
    "# summarize data after the transform\n",
    "print(X_discrete[:3, :])"
   ]
  },
  {
   "cell_type": "code",
   "execution_count": 14,
   "id": "61a0d4ec-de70-45dc-90ef-ef5cfd25bbed",
   "metadata": {},
   "outputs": [
    {
     "data": {
      "text/plain": [
       "array([-1.68946284,  0.47814224, -1.4159231 , -0.9966515 ,  0.2534083 ])"
      ]
     },
     "execution_count": 14,
     "metadata": {},
     "output_type": "execute_result"
    }
   ],
   "source": [
    "X[0,:]"
   ]
  },
  {
   "cell_type": "code",
   "execution_count": 15,
   "id": "a97c33f2-5500-4aad-a933-45073bfd80ce",
   "metadata": {},
   "outputs": [
    {
     "name": "stdout",
     "output_type": "stream",
     "text": [
      "[4. 5. 3. 4. 4.]\n"
     ]
    }
   ],
   "source": [
    "print(X_discrete[0,:])"
   ]
  },
  {
   "cell_type": "code",
   "execution_count": 16,
   "id": "3710223e-d08b-4ce2-a783-3f13475541d0",
   "metadata": {},
   "outputs": [
    {
     "data": {
      "text/plain": [
       "array([1.62396887, 1.10351079, 0.06765056, 2.19392866, 1.57927283])"
      ]
     },
     "execution_count": 16,
     "metadata": {},
     "output_type": "execute_result"
    }
   ],
   "source": [
    "X[1,:]"
   ]
  },
  {
   "cell_type": "code",
   "execution_count": 17,
   "id": "509a16f5-cc13-463a-8ef4-96dd1d3d088a",
   "metadata": {},
   "outputs": [
    {
     "name": "stdout",
     "output_type": "stream",
     "text": [
      "[6. 5. 5. 6. 5.]\n"
     ]
    }
   ],
   "source": [
    "print(X_discrete[1,:])"
   ]
  },
  {
   "cell_type": "code",
   "execution_count": null,
   "id": "3e50a5b5-a160-4b34-961c-92b03cf360d9",
   "metadata": {},
   "outputs": [],
   "source": []
  },
  {
   "cell_type": "code",
   "execution_count": 18,
   "id": "7b4eb70a-ddf3-49bb-88d5-4c6533ff044a",
   "metadata": {},
   "outputs": [],
   "source": [
    "data = pd.DataFrame(X)"
   ]
  },
  {
   "cell_type": "code",
   "execution_count": 19,
   "id": "3eb4a881-47df-4ef6-8d93-866b6f1f4876",
   "metadata": {},
   "outputs": [
    {
     "data": {
      "text/html": [
       "<div>\n",
       "<style scoped>\n",
       "    .dataframe tbody tr th:only-of-type {\n",
       "        vertical-align: middle;\n",
       "    }\n",
       "\n",
       "    .dataframe tbody tr th {\n",
       "        vertical-align: top;\n",
       "    }\n",
       "\n",
       "    .dataframe thead th {\n",
       "        text-align: right;\n",
       "    }\n",
       "</style>\n",
       "<table border=\"1\" class=\"dataframe\">\n",
       "  <thead>\n",
       "    <tr style=\"text-align: right;\">\n",
       "      <th></th>\n",
       "      <th>0</th>\n",
       "      <th>1</th>\n",
       "      <th>2</th>\n",
       "      <th>3</th>\n",
       "      <th>4</th>\n",
       "    </tr>\n",
       "  </thead>\n",
       "  <tbody>\n",
       "    <tr>\n",
       "      <th>count</th>\n",
       "      <td>5000000.0</td>\n",
       "      <td>5000000.0</td>\n",
       "      <td>5000000.0</td>\n",
       "      <td>5000000.0</td>\n",
       "      <td>5000000.0</td>\n",
       "    </tr>\n",
       "    <tr>\n",
       "      <th>mean</th>\n",
       "      <td>0.0</td>\n",
       "      <td>-0.0</td>\n",
       "      <td>0.0</td>\n",
       "      <td>-0.0</td>\n",
       "      <td>-0.0</td>\n",
       "    </tr>\n",
       "    <tr>\n",
       "      <th>std</th>\n",
       "      <td>1.0</td>\n",
       "      <td>1.0</td>\n",
       "      <td>1.0</td>\n",
       "      <td>1.0</td>\n",
       "      <td>1.0</td>\n",
       "    </tr>\n",
       "    <tr>\n",
       "      <th>min</th>\n",
       "      <td>-8.0</td>\n",
       "      <td>-4.0</td>\n",
       "      <td>-5.0</td>\n",
       "      <td>-8.0</td>\n",
       "      <td>-4.0</td>\n",
       "    </tr>\n",
       "    <tr>\n",
       "      <th>25%</th>\n",
       "      <td>-1.0</td>\n",
       "      <td>-1.0</td>\n",
       "      <td>-1.0</td>\n",
       "      <td>-1.0</td>\n",
       "      <td>-1.0</td>\n",
       "    </tr>\n",
       "    <tr>\n",
       "      <th>50%</th>\n",
       "      <td>0.0</td>\n",
       "      <td>0.0</td>\n",
       "      <td>0.0</td>\n",
       "      <td>-0.0</td>\n",
       "      <td>-0.0</td>\n",
       "    </tr>\n",
       "    <tr>\n",
       "      <th>75%</th>\n",
       "      <td>1.0</td>\n",
       "      <td>1.0</td>\n",
       "      <td>1.0</td>\n",
       "      <td>1.0</td>\n",
       "      <td>1.0</td>\n",
       "    </tr>\n",
       "    <tr>\n",
       "      <th>max</th>\n",
       "      <td>6.0</td>\n",
       "      <td>5.0</td>\n",
       "      <td>5.0</td>\n",
       "      <td>9.0</td>\n",
       "      <td>7.0</td>\n",
       "    </tr>\n",
       "  </tbody>\n",
       "</table>\n",
       "</div>"
      ],
      "text/plain": [
       "               0          1          2          3          4\n",
       "count  5000000.0  5000000.0  5000000.0  5000000.0  5000000.0\n",
       "mean         0.0       -0.0        0.0       -0.0       -0.0\n",
       "std          1.0        1.0        1.0        1.0        1.0\n",
       "min         -8.0       -4.0       -5.0       -8.0       -4.0\n",
       "25%         -1.0       -1.0       -1.0       -1.0       -1.0\n",
       "50%          0.0        0.0        0.0       -0.0       -0.0\n",
       "75%          1.0        1.0        1.0        1.0        1.0\n",
       "max          6.0        5.0        5.0        9.0        7.0"
      ]
     },
     "execution_count": 19,
     "metadata": {},
     "output_type": "execute_result"
    }
   ],
   "source": [
    "data.describe().round()"
   ]
  },
  {
   "cell_type": "code",
   "execution_count": 20,
   "id": "7842278b-01ce-4ab3-8390-d4d1a707341b",
   "metadata": {},
   "outputs": [
    {
     "data": {
      "text/plain": [
       "0   -1.689463\n",
       "1    0.478142\n",
       "2   -1.415923\n",
       "3   -0.996652\n",
       "4    0.253408\n",
       "Name: 0, dtype: float64"
      ]
     },
     "execution_count": 20,
     "metadata": {},
     "output_type": "execute_result"
    }
   ],
   "source": [
    "data.iloc[0,:]"
   ]
  },
  {
   "cell_type": "code",
   "execution_count": null,
   "id": "3d0b46c0-d665-4c51-888a-9946acb1ffc9",
   "metadata": {},
   "outputs": [],
   "source": []
  }
 ],
 "metadata": {
  "kernelspec": {
   "display_name": "Python Multi",
   "language": "python",
   "name": "multi"
  },
  "language_info": {
   "codemirror_mode": {
    "name": "ipython",
    "version": 3
   },
   "file_extension": ".py",
   "mimetype": "text/x-python",
   "name": "python",
   "nbconvert_exporter": "python",
   "pygments_lexer": "ipython3",
   "version": "3.7.6"
  }
 },
 "nbformat": 4,
 "nbformat_minor": 5
}
