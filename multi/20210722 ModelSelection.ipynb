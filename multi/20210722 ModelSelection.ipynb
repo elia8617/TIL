{
 "cells": [
  {
   "cell_type": "code",
   "execution_count": null,
   "id": "530fe22c-03cd-4cf1-b24c-0302ca9a215a",
   "metadata": {},
   "outputs": [],
   "source": []
  },
  {
   "cell_type": "code",
   "execution_count": null,
   "id": "7a53783a-7058-47d1-8b80-3d8f98b58361",
   "metadata": {},
   "outputs": [],
   "source": []
  },
  {
   "cell_type": "code",
   "execution_count": null,
   "id": "b150a484-03f3-4800-85cb-ec23106b90fb",
   "metadata": {},
   "outputs": [],
   "source": []
  },
  {
   "cell_type": "code",
   "execution_count": null,
   "id": "e0b9cac0-d95f-4af9-9e8f-21b7f47c0b5d",
   "metadata": {},
   "outputs": [],
   "source": []
  },
  {
   "cell_type": "code",
   "execution_count": 5,
   "id": "777e8c9d-b416-4641-8a79-5449c8397890",
   "metadata": {},
   "outputs": [
    {
     "name": "stdout",
     "output_type": "stream",
     "text": [
      "예측정확도: 1.0\n"
     ]
    }
   ],
   "source": [
    "#(1)학습/데이터셋 분리하지 않고 예측\n",
    "\n",
    "from sklearn.datasets import load_iris\n",
    "from sklearn.tree import DecisionTreeClassifier\n",
    "from sklearn.metrics import accuracy_score\n",
    "\n",
    "iris_data = load_iris()\n",
    "dt_clf = DecisionTreeClassifier()\n",
    "\n",
    "train_data = iris_data.data\n",
    "train_label = iris_data.target\n",
    "\n",
    "#학습 수행\n",
    "dt_clf.fit(train_data, train_label)\n",
    "\n",
    "#테스트\n",
    "pred=dt_clf.predict(train_data)\n",
    "print(\"예측정확도:\", accuracy_score(train_label, pred))\n",
    "\n",
    "###이거는안되는 케이스!! 예측은 테스트 데이터로 해야함"
   ]
  },
  {
   "cell_type": "code",
   "execution_count": null,
   "id": "7a7459a5-83a7-4ae5-81a9-0220e70884e0",
   "metadata": {},
   "outputs": [],
   "source": []
  },
  {
   "cell_type": "code",
   "execution_count": 13,
   "id": "46d5f6b3-c253-4a6a-8fdb-f172459ae393",
   "metadata": {},
   "outputs": [
    {
     "name": "stdout",
     "output_type": "stream",
     "text": [
      "[1 0 2 0 1 2 2 1 1 0 2 0 1 0 2 0 0 1 1 2 0 1 2 2 1 1 0 1 2 1 0 1 0 1 2 1 2\n",
      " 1 0 2 2 0 1 2 0 2 1 2 1 0 2 1 2 0 2 1 2 1 2 1 1 2 1 1 2 1 1 0 2 0 1 0 1 1\n",
      " 1 1 0 2 2 1 1 1 0 0 2 2 0 0 0 2 0 0 2 2 1 0 0 0 2 1 0 0 2 1 2 0 0 2 1 1 1\n",
      " 2 2 1 2 1 1 2 2 2]\n"
     ]
    }
   ],
   "source": [
    "#(2) 학습/테스트 데이터셋 분리하고 예측\n",
    "\n",
    "from sklearn.datasets import load_iris\n",
    "from sklearn.tree import DecisionTreeClassifier\n",
    "from sklearn.metrics import accuracy_score\n",
    "from sklearn.model_selection import train_test_split\n",
    "\n",
    "iris_data = load_iris()\n",
    "dt_clf = DecisionTreeClassifier()\n",
    "\n",
    "#학습/테스트 분할(split)\n",
    "X_train, X_test, y_train, y_test = train_test_split(iris_data.data,\n",
    "                                                    iris_data.target,\n",
    "                                                    test_size = 0.2,\n",
    "                                                    random_state=4)\n",
    "\n",
    "print(y_train)"
   ]
  },
  {
   "cell_type": "code",
   "execution_count": 14,
   "id": "0e1705f6-9cb1-465f-b0cd-97ef134be07b",
   "metadata": {},
   "outputs": [
    {
     "name": "stdout",
     "output_type": "stream",
     "text": [
      "예측정확도 :  0.9666666666666667\n"
     ]
    }
   ],
   "source": [
    "#학습수행 (FIT기억하기!!)\n",
    "dt_clf.fit(X_train, y_train)\n",
    "\n",
    "#예측 수행\n",
    "pred = dt_clf.predict(X_test)\n",
    "print(\"예측정확도 : \", accuracy_score(y_test,pred))\n"
   ]
  },
  {
   "cell_type": "code",
   "execution_count": 15,
   "id": "b5a1bf05-2ebf-4f79-8295-c939290ea3d1",
   "metadata": {},
   "outputs": [],
   "source": [
    "#넘파이 ndarray뿐만 아니라 판다스 DataFrame/series도 train_test_split()으로 분할가능"
   ]
  },
  {
   "cell_type": "code",
   "execution_count": 18,
   "id": "b1732b1d-5b04-4d3d-90e6-b1539b63817c",
   "metadata": {},
   "outputs": [
    {
     "data": {
      "text/html": [
       "<div>\n",
       "<style scoped>\n",
       "    .dataframe tbody tr th:only-of-type {\n",
       "        vertical-align: middle;\n",
       "    }\n",
       "\n",
       "    .dataframe tbody tr th {\n",
       "        vertical-align: top;\n",
       "    }\n",
       "\n",
       "    .dataframe thead th {\n",
       "        text-align: right;\n",
       "    }\n",
       "</style>\n",
       "<table border=\"1\" class=\"dataframe\">\n",
       "  <thead>\n",
       "    <tr style=\"text-align: right;\">\n",
       "      <th></th>\n",
       "      <th>sepal length (cm)</th>\n",
       "      <th>sepal width (cm)</th>\n",
       "      <th>petal length (cm)</th>\n",
       "      <th>petal width (cm)</th>\n",
       "      <th>target</th>\n",
       "    </tr>\n",
       "  </thead>\n",
       "  <tbody>\n",
       "    <tr>\n",
       "      <th>0</th>\n",
       "      <td>5.1</td>\n",
       "      <td>3.5</td>\n",
       "      <td>1.4</td>\n",
       "      <td>0.2</td>\n",
       "      <td>0</td>\n",
       "    </tr>\n",
       "    <tr>\n",
       "      <th>1</th>\n",
       "      <td>4.9</td>\n",
       "      <td>3.0</td>\n",
       "      <td>1.4</td>\n",
       "      <td>0.2</td>\n",
       "      <td>0</td>\n",
       "    </tr>\n",
       "    <tr>\n",
       "      <th>2</th>\n",
       "      <td>4.7</td>\n",
       "      <td>3.2</td>\n",
       "      <td>1.3</td>\n",
       "      <td>0.2</td>\n",
       "      <td>0</td>\n",
       "    </tr>\n",
       "    <tr>\n",
       "      <th>3</th>\n",
       "      <td>4.6</td>\n",
       "      <td>3.1</td>\n",
       "      <td>1.5</td>\n",
       "      <td>0.2</td>\n",
       "      <td>0</td>\n",
       "    </tr>\n",
       "    <tr>\n",
       "      <th>4</th>\n",
       "      <td>5.0</td>\n",
       "      <td>3.6</td>\n",
       "      <td>1.4</td>\n",
       "      <td>0.2</td>\n",
       "      <td>0</td>\n",
       "    </tr>\n",
       "  </tbody>\n",
       "</table>\n",
       "</div>"
      ],
      "text/plain": [
       "   sepal length (cm)  sepal width (cm)  petal length (cm)  petal width (cm)  \\\n",
       "0                5.1               3.5                1.4               0.2   \n",
       "1                4.9               3.0                1.4               0.2   \n",
       "2                4.7               3.2                1.3               0.2   \n",
       "3                4.6               3.1                1.5               0.2   \n",
       "4                5.0               3.6                1.4               0.2   \n",
       "\n",
       "   target  \n",
       "0       0  \n",
       "1       0  \n",
       "2       0  \n",
       "3       0  \n",
       "4       0  "
      ]
     },
     "execution_count": 18,
     "metadata": {},
     "output_type": "execute_result"
    }
   ],
   "source": [
    "import pandas as pd\n",
    "\n",
    "iris_df = pd.DataFrame(iris_data.data, columns=iris_data.feature_names)\n",
    "iris_df['target'] = iris_data.target\n",
    "iris_df.head()"
   ]
  },
  {
   "cell_type": "code",
   "execution_count": 22,
   "id": "f71cae38-610a-4ff1-ae0a-9e1ad7334112",
   "metadata": {},
   "outputs": [],
   "source": [
    "#피쳐 데이터프레임 반환(마지막열 전까지, 마지막 열 제외)\n",
    "feature_df = iris_df.iloc[:,:-1]\n",
    "\n",
    "#타깃 데이터 프레임 반환\n",
    "target_df = iris_df.iloc[:,-1]\n",
    "\n",
    "#학습/테스트\n",
    "X_train, X_test, y_train, y_test = train_test_split(feature_df,\n",
    "                                                    target_df,\n",
    "                                                    test_size = 0.3,\n",
    "                                                    random_state=4)\n"
   ]
  },
  {
   "cell_type": "code",
   "execution_count": 23,
   "id": "4311f8e8-6ecb-49a3-a5b0-2ec1217bb752",
   "metadata": {},
   "outputs": [
    {
     "data": {
      "text/plain": [
       "pandas.core.frame.DataFrame"
      ]
     },
     "execution_count": 23,
     "metadata": {},
     "output_type": "execute_result"
    }
   ],
   "source": [
    "type(X_train)"
   ]
  },
  {
   "cell_type": "code",
   "execution_count": 33,
   "id": "19f13a57-b187-48a8-a868-a91f57760ca3",
   "metadata": {},
   "outputs": [
    {
     "name": "stdout",
     "output_type": "stream",
     "text": [
      "예측정확도 : 0.978\n"
     ]
    }
   ],
   "source": [
    "dt_clf = DecisionTreeClassifier()\n",
    "dt_clf.fit(X_train, y_train)\n",
    "pred = dt_clf.predict(X_test)\n",
    "print(\"예측정확도 : {0:.3f}\".format(accuracy_score(y_test, pred)))"
   ]
  },
  {
   "cell_type": "code",
   "execution_count": null,
   "id": "ede3a9f0-09f7-4e22-858a-0c7ff1b9378f",
   "metadata": {},
   "outputs": [],
   "source": []
  },
  {
   "cell_type": "code",
   "execution_count": null,
   "id": "4eaf8c53-f1d1-48f4-9484-d586de06e8e7",
   "metadata": {},
   "outputs": [],
   "source": []
  },
  {
   "cell_type": "code",
   "execution_count": 34,
   "id": "c5a85d0c-1760-4048-994a-74f372ef0d72",
   "metadata": {},
   "outputs": [],
   "source": [
    "#데이터 split과 모델검증"
   ]
  },
  {
   "cell_type": "markdown",
   "id": "c18d0052-7038-400f-b4f0-27c42449ab34",
   "metadata": {},
   "source": [
    "언제\n",
    "    충분히 큰 데이터 세트\n",
    "    충분히 큰 게 없을때 교차확인고려\n",
    "왜\n",
    "    학습에 사용안된 데이터 사용해서 예측 -> 모델의 성능 예측\n",
    "어떻게\n",
    "    홀드아웃\n",
    "    교차검증\n",
    "    strairied sampling\n",
    "\n",
    "\n",
    "홀드아웃\n",
    "    데이터를 train/test로 나눔 7:3~9:1\n",
    "    가끔 3그룹 나눔 train validatio test"
   ]
  },
  {
   "cell_type": "markdown",
   "id": "61352124-f8bc-4ab5-97be-279c77d82e9e",
   "metadata": {},
   "source": [
    "분리시 발생하는\n",
    "    과적합\n",
    "    알고리즘 성능 저하\n",
    "    \n",
    "부적합한 데이터 선별 문제\n",
    "    선별해서 학습하면 실제 데이터와 많은 차이가 있음->성능저하\n",
    "    그래서 교차검증이용해서 다양한 학습평가 수행"
   ]
  },
  {
   "cell_type": "markdown",
   "id": "5fafd8a1-3928-44a3-921b-47752a538f69",
   "metadata": {},
   "source": [
    "교차검증(Cross Validation, CV)\n",
    "k-fold cross validation\n",
    "전체 데이터 세트를 임의의 그룹으로 나누고 돌아가면서 하나의 세트를 테스트데이터세트, 나머지걸 학습용으로\n",
    "과대적합 예방\n",
    "데이터 편중 막기\n",
    "데이터에 적합한 알고리즘인지 평가\n",
    "\n",
    "방법\n",
    "    K폴드\n",
    "    Stratified K 폴드 교차검증"
   ]
  },
  {
   "cell_type": "markdown",
   "id": "a6f722e4-afca-480f-819b-97e381f66e1f",
   "metadata": {},
   "source": [
    "K폴드 교차검증 : 보통 5-폴드 (5번 학습/검증평가 수행)\n",
    "\n",
    "1. KFold클래스 분리 객체 생성\n",
    "    kfold = KFold(n_splits=5)\n",
    "2. Split메소드 : 폴드 데이터 세트 분리\n",
    "    kfold.split(features)\n",
    "3. 최종 정확도 계산"
   ]
  },
  {
   "cell_type": "code",
   "execution_count": null,
   "id": "05ff5272-cea5-4623-a56c-96fb430af67f",
   "metadata": {},
   "outputs": [],
   "source": []
  },
  {
   "cell_type": "code",
   "execution_count": null,
   "id": "ce075419-12d2-436e-bd3e-a3ae9a9f4ea4",
   "metadata": {},
   "outputs": [],
   "source": [
    "#K폴드 예제"
   ]
  },
  {
   "cell_type": "code",
   "execution_count": 39,
   "id": "69ba2f42-aa1c-43df-9c6e-0414a17cfbd2",
   "metadata": {},
   "outputs": [
    {
     "data": {
      "text/plain": [
       "(150, 4)"
      ]
     },
     "execution_count": 39,
     "metadata": {},
     "output_type": "execute_result"
    }
   ],
   "source": [
    "from sklearn.tree import DecisionTreeClassifier\n",
    "from sklearn.metrics import accuracy_score\n",
    "from sklearn.model_selection import KFold\n",
    "\n",
    "iris = load_iris()\n",
    "features = iris.data\n",
    "label = iris.target\n",
    "\n",
    "features.shape"
   ]
  },
  {
   "cell_type": "code",
   "execution_count": 42,
   "id": "db5d49b3-f365-4433-8bb6-2fc2b6397774",
   "metadata": {},
   "outputs": [],
   "source": [
    "#DecisionTreeClassifier객체 생성, 디시젼트리 새로 구성해보겠따(random)\n",
    "dt_clf = DecisionTreeClassifier(random_state = 156)\n",
    "\n",
    "#5개의 폴드 세트로 분리하는 KFold객체 생성\n",
    "kfold = KFold(n_splits=5)\n",
    "\n",
    "#폴드 세트별 정확도를 담을 리스트 객체 생성\n",
    "cv_accuracy = []\n"
   ]
  },
  {
   "cell_type": "code",
   "execution_count": 44,
   "id": "c9dea0a0-4319-4e53-ba93-a3345c827181",
   "metadata": {},
   "outputs": [
    {
     "name": "stdout",
     "output_type": "stream",
     "text": [
      "[ 30  31  32  33  34  35  36  37  38  39  40  41  42  43  44  45  46  47\n",
      "  48  49  50  51  52  53  54  55  56  57  58  59  60  61  62  63  64  65\n",
      "  66  67  68  69  70  71  72  73  74  75  76  77  78  79  80  81  82  83\n",
      "  84  85  86  87  88  89  90  91  92  93  94  95  96  97  98  99 100 101\n",
      " 102 103 104 105 106 107 108 109 110 111 112 113 114 115 116 117 118 119\n",
      " 120 121 122 123 124 125 126 127 128 129 130 131 132 133 134 135 136 137\n",
      " 138 139 140 141 142 143 144 145 146 147 148 149] [ 0  1  2  3  4  5  6  7  8  9 10 11 12 13 14 15 16 17 18 19 20 21 22 23\n",
      " 24 25 26 27 28 29]\n",
      "[  0   1   2   3   4   5   6   7   8   9  10  11  12  13  14  15  16  17\n",
      "  18  19  20  21  22  23  24  25  26  27  28  29  60  61  62  63  64  65\n",
      "  66  67  68  69  70  71  72  73  74  75  76  77  78  79  80  81  82  83\n",
      "  84  85  86  87  88  89  90  91  92  93  94  95  96  97  98  99 100 101\n",
      " 102 103 104 105 106 107 108 109 110 111 112 113 114 115 116 117 118 119\n",
      " 120 121 122 123 124 125 126 127 128 129 130 131 132 133 134 135 136 137\n",
      " 138 139 140 141 142 143 144 145 146 147 148 149] [30 31 32 33 34 35 36 37 38 39 40 41 42 43 44 45 46 47 48 49 50 51 52 53\n",
      " 54 55 56 57 58 59]\n",
      "[  0   1   2   3   4   5   6   7   8   9  10  11  12  13  14  15  16  17\n",
      "  18  19  20  21  22  23  24  25  26  27  28  29  30  31  32  33  34  35\n",
      "  36  37  38  39  40  41  42  43  44  45  46  47  48  49  50  51  52  53\n",
      "  54  55  56  57  58  59  90  91  92  93  94  95  96  97  98  99 100 101\n",
      " 102 103 104 105 106 107 108 109 110 111 112 113 114 115 116 117 118 119\n",
      " 120 121 122 123 124 125 126 127 128 129 130 131 132 133 134 135 136 137\n",
      " 138 139 140 141 142 143 144 145 146 147 148 149] [60 61 62 63 64 65 66 67 68 69 70 71 72 73 74 75 76 77 78 79 80 81 82 83\n",
      " 84 85 86 87 88 89]\n",
      "[  0   1   2   3   4   5   6   7   8   9  10  11  12  13  14  15  16  17\n",
      "  18  19  20  21  22  23  24  25  26  27  28  29  30  31  32  33  34  35\n",
      "  36  37  38  39  40  41  42  43  44  45  46  47  48  49  50  51  52  53\n",
      "  54  55  56  57  58  59  60  61  62  63  64  65  66  67  68  69  70  71\n",
      "  72  73  74  75  76  77  78  79  80  81  82  83  84  85  86  87  88  89\n",
      " 120 121 122 123 124 125 126 127 128 129 130 131 132 133 134 135 136 137\n",
      " 138 139 140 141 142 143 144 145 146 147 148 149] [ 90  91  92  93  94  95  96  97  98  99 100 101 102 103 104 105 106 107\n",
      " 108 109 110 111 112 113 114 115 116 117 118 119]\n",
      "[  0   1   2   3   4   5   6   7   8   9  10  11  12  13  14  15  16  17\n",
      "  18  19  20  21  22  23  24  25  26  27  28  29  30  31  32  33  34  35\n",
      "  36  37  38  39  40  41  42  43  44  45  46  47  48  49  50  51  52  53\n",
      "  54  55  56  57  58  59  60  61  62  63  64  65  66  67  68  69  70  71\n",
      "  72  73  74  75  76  77  78  79  80  81  82  83  84  85  86  87  88  89\n",
      "  90  91  92  93  94  95  96  97  98  99 100 101 102 103 104 105 106 107\n",
      " 108 109 110 111 112 113 114 115 116 117 118 119] [120 121 122 123 124 125 126 127 128 129 130 131 132 133 134 135 136 137\n",
      " 138 139 140 141 142 143 144 145 146 147 148 149]\n"
     ]
    }
   ],
   "source": [
    "#폴드 별 학습용, 검증용 데이터 세트의 행 인덱스 확인\n",
    "for train_index, test_index in kfold.split(features):\n",
    "    print(train_index, test_index)"
   ]
  },
  {
   "cell_type": "code",
   "execution_count": 49,
   "id": "19df29b7-f294-4110-8651-6caa0ad69f52",
   "metadata": {},
   "outputs": [
    {
     "name": "stdout",
     "output_type": "stream",
     "text": [
      "정확도 : 1.000000, 학습 데이터 크기 : 120, 검증 데이터 크기 : 30\n",
      "정확도 : 0.967000, 학습 데이터 크기 : 120, 검증 데이터 크기 : 30\n",
      "정확도 : 0.867000, 학습 데이터 크기 : 120, 검증 데이터 크기 : 30\n",
      "정확도 : 0.933000, 학습 데이터 크기 : 120, 검증 데이터 크기 : 30\n",
      "정확도 : 0.733000, 학습 데이터 크기 : 120, 검증 데이터 크기 : 30\n",
      "평균 검증 정확도 :  0.9\n"
     ]
    }
   ],
   "source": [
    "import numpy as np\n",
    "for train_index, test_index in kfold.split(features):\n",
    "    X_train, X_test = features[train_index], features[test_index]\n",
    "    y_train, y_test = label[train_index], label[test_index]\n",
    "    \n",
    "    dt_clf.fit(X_train, y_train)\n",
    "    pred = dt_clf.predict(X_test)\n",
    "    \n",
    "    acc = np.round(accuracy_score(y_test, pred),3)\n",
    "    train_size = X_train.shape[0]\n",
    "    test_size = X_test.shape[0]\n",
    "    \n",
    "    print(\"정확도 : %f, 학습 데이터 크기 : %d, 검증 데이터 크기 : %d\" %(acc, train_size, test_size))\n",
    "    cv_accuracy.append(acc)\n",
    "    \n",
    "print('평균 검증 정확도 : ', np.mean(cv_accuracy))"
   ]
  },
  {
   "cell_type": "code",
   "execution_count": null,
   "id": "c17f8b8e-fca9-4fdf-834b-5eed0252b875",
   "metadata": {},
   "outputs": [],
   "source": []
  },
  {
   "cell_type": "code",
   "execution_count": null,
   "id": "8af6cfe6-05eb-4d2b-acdc-ee0ab8102952",
   "metadata": {},
   "outputs": [],
   "source": [
    "#straitified K폴드 교차검증"
   ]
  },
  {
   "cell_type": "markdown",
   "id": "d9f25594-fa77-43ef-96f2-8e31f6895d00",
   "metadata": {},
   "source": [
    "불균형한 분포도를 가진 레이블(결정 클래스)데이터 집합을 위한 K폴드 방식\n",
    "\n",
    "불균형 데이터 극복방법\n",
    "    데이터 추가확보\n",
    "    re-sampling\n",
    "        과소표집\n",
    "        과대표집"
   ]
  },
  {
   "cell_type": "markdown",
   "id": "19f1352f-1374-48ff-ba9c-e8ece59b5f4c",
   "metadata": {},
   "source": []
  },
  {
   "cell_type": "code",
   "execution_count": 56,
   "id": "e58df328-64fa-4f0a-8e3b-417809fdb58d",
   "metadata": {},
   "outputs": [
    {
     "data": {
      "text/html": [
       "<div>\n",
       "<style scoped>\n",
       "    .dataframe tbody tr th:only-of-type {\n",
       "        vertical-align: middle;\n",
       "    }\n",
       "\n",
       "    .dataframe tbody tr th {\n",
       "        vertical-align: top;\n",
       "    }\n",
       "\n",
       "    .dataframe thead th {\n",
       "        text-align: right;\n",
       "    }\n",
       "</style>\n",
       "<table border=\"1\" class=\"dataframe\">\n",
       "  <thead>\n",
       "    <tr style=\"text-align: right;\">\n",
       "      <th></th>\n",
       "      <th>sepal length (cm)</th>\n",
       "      <th>sepal width (cm)</th>\n",
       "      <th>petal length (cm)</th>\n",
       "      <th>petal width (cm)</th>\n",
       "      <th>label</th>\n",
       "    </tr>\n",
       "  </thead>\n",
       "  <tbody>\n",
       "    <tr>\n",
       "      <th>0</th>\n",
       "      <td>5.1</td>\n",
       "      <td>3.5</td>\n",
       "      <td>1.4</td>\n",
       "      <td>0.2</td>\n",
       "      <td>0</td>\n",
       "    </tr>\n",
       "    <tr>\n",
       "      <th>1</th>\n",
       "      <td>4.9</td>\n",
       "      <td>3.0</td>\n",
       "      <td>1.4</td>\n",
       "      <td>0.2</td>\n",
       "      <td>0</td>\n",
       "    </tr>\n",
       "    <tr>\n",
       "      <th>2</th>\n",
       "      <td>4.7</td>\n",
       "      <td>3.2</td>\n",
       "      <td>1.3</td>\n",
       "      <td>0.2</td>\n",
       "      <td>0</td>\n",
       "    </tr>\n",
       "    <tr>\n",
       "      <th>3</th>\n",
       "      <td>4.6</td>\n",
       "      <td>3.1</td>\n",
       "      <td>1.5</td>\n",
       "      <td>0.2</td>\n",
       "      <td>0</td>\n",
       "    </tr>\n",
       "    <tr>\n",
       "      <th>4</th>\n",
       "      <td>5.0</td>\n",
       "      <td>3.6</td>\n",
       "      <td>1.4</td>\n",
       "      <td>0.2</td>\n",
       "      <td>0</td>\n",
       "    </tr>\n",
       "  </tbody>\n",
       "</table>\n",
       "</div>"
      ],
      "text/plain": [
       "   sepal length (cm)  sepal width (cm)  petal length (cm)  petal width (cm)  \\\n",
       "0                5.1               3.5                1.4               0.2   \n",
       "1                4.9               3.0                1.4               0.2   \n",
       "2                4.7               3.2                1.3               0.2   \n",
       "3                4.6               3.1                1.5               0.2   \n",
       "4                5.0               3.6                1.4               0.2   \n",
       "\n",
       "   label  \n",
       "0      0  \n",
       "1      0  \n",
       "2      0  \n",
       "3      0  \n",
       "4      0  "
      ]
     },
     "execution_count": 56,
     "metadata": {},
     "output_type": "execute_result"
    }
   ],
   "source": [
    "\n",
    "import pandas as pd\n",
    "\n",
    "iris = load_iris()\n",
    "\n",
    "iris_df = pd.DataFrame(iris_data.data, columns=iris_data.feature_names)\n",
    "iris_df['label'] = iris.target\n",
    "iris_df.head()"
   ]
  },
  {
   "cell_type": "code",
   "execution_count": 57,
   "id": "c064420b-f309-4e72-8e51-8e45a51ed68b",
   "metadata": {},
   "outputs": [
    {
     "data": {
      "text/plain": [
       "0    50\n",
       "1    50\n",
       "2    50\n",
       "Name: label, dtype: int64"
      ]
     },
     "execution_count": 57,
     "metadata": {},
     "output_type": "execute_result"
    }
   ],
   "source": [
    "iris_df['label'].value_counts()\n",
    "#레이블 값은 0,1,2값 모두 50개로 동일\n",
    "#즉 setosa, versicolor, virginica각 품종 50개씩\n"
   ]
  },
  {
   "cell_type": "code",
   "execution_count": 59,
   "id": "e6739d10-77cf-47ab-b43b-335876cd9848",
   "metadata": {},
   "outputs": [
    {
     "name": "stdout",
     "output_type": "stream",
     "text": [
      "교차검증 : 1\n",
      "학습용 : \n",
      " 0    50\n",
      "1    50\n",
      "2    20\n",
      "Name: label, dtype: int64\n",
      "테스트용 : \n",
      " 0    50\n",
      "Name: label, dtype: int64\n",
      "교차검증 : 2\n",
      "학습용 : \n",
      " 0    50\n",
      "1    50\n",
      "2    20\n",
      "Name: label, dtype: int64\n",
      "테스트용 : \n",
      " 1    50\n",
      "Name: label, dtype: int64\n",
      "교차검증 : 3\n",
      "학습용 : \n",
      " 0    50\n",
      "1    50\n",
      "2    20\n",
      "Name: label, dtype: int64\n",
      "테스트용 : \n",
      " 2    50\n",
      "Name: label, dtype: int64\n"
     ]
    }
   ],
   "source": [
    "#3개 폴드를 구성 \n",
    "###선생님과 다름\n",
    "\n",
    "kfold = KFold(n_splits=3)\n",
    "n=0\n",
    "for trin_index, test_index in kfold.split(iris_df):\n",
    "    n += 1\n",
    "    label_train = iris_df['label'].iloc[train_index]\n",
    "    label_test = iris_df['label'].iloc[test_index]\n",
    "    print(\"교차검증 : %d\"%(n))\n",
    "    print(\"학습용 : \\n\",label_train.value_counts())\n",
    "    print(\"테스트용 : \\n\",label_test.value_counts())"
   ]
  },
  {
   "cell_type": "code",
   "execution_count": null,
   "id": "cbb158f7-d7fc-4885-9fc3-a37c553a6411",
   "metadata": {},
   "outputs": [],
   "source": []
  },
  {
   "cell_type": "code",
   "execution_count": null,
   "id": "69202e50-420f-49ac-addc-6bedd14de4c9",
   "metadata": {},
   "outputs": [],
   "source": [
    "###c참고 : 3개의 폴드세트로 kfold교차검증 했더니 정확도 : 0 나옴"
   ]
  },
  {
   "cell_type": "code",
   "execution_count": null,
   "id": "6494ea57-e672-4df0-9804-8d1f503085a6",
   "metadata": {},
   "outputs": [],
   "source": [
    "#or print('%d \\n정확도 : %f, 학습데이터크기 : %d,검증데이터 크기 : %d' %(n, acc, train_size, test_size))"
   ]
  },
  {
   "cell_type": "code",
   "execution_count": null,
   "id": "a6d8ff69-282d-46d0-85c3-3b915ec8dd71",
   "metadata": {},
   "outputs": [],
   "source": []
  },
  {
   "cell_type": "code",
   "execution_count": 63,
   "id": "e643515f-046f-48ae-9b9e-61b563a56ae0",
   "metadata": {},
   "outputs": [
    {
     "name": "stdout",
     "output_type": "stream",
     "text": [
      "[교차검증 : 1]\n",
      "학습용 레이블 분포 : \n",
      " 2    34\n",
      "0    33\n",
      "1    33\n",
      "Name: label, dtype: int64\n",
      "검증용 레이블 분포 : \n",
      " 0    17\n",
      "1    17\n",
      "2    16\n",
      "Name: label, dtype: int64\n",
      "[교차검증 : 2]\n",
      "학습용 레이블 분포 : \n",
      " 1    34\n",
      "0    33\n",
      "2    33\n",
      "Name: label, dtype: int64\n",
      "검증용 레이블 분포 : \n",
      " 0    17\n",
      "2    17\n",
      "1    16\n",
      "Name: label, dtype: int64\n",
      "[교차검증 : 3]\n",
      "학습용 레이블 분포 : \n",
      " 0    34\n",
      "1    33\n",
      "2    33\n",
      "Name: label, dtype: int64\n",
      "검증용 레이블 분포 : \n",
      " 1    17\n",
      "2    17\n",
      "0    16\n",
      "Name: label, dtype: int64\n"
     ]
    }
   ],
   "source": [
    "from sklearn.model_selection import StratifiedKFold\n",
    "\n",
    "skf = StratifiedKFold(n_splits=3)\n",
    "n=0\n",
    "\n",
    "for train_index, test_index in skf.split(iris_df, iris_df['label']):\n",
    "    n = n+1\n",
    "    label_train = iris_df['label'].iloc[train_index]\n",
    "    label_test = iris_df['label'].iloc[test_index]\n",
    "    print(\"[교차검증 : %d]\" %n)\n",
    "    print(\"학습용 레이블 분포 : \\n\", label_train.value_counts())\n",
    "    print(\"검증용 레이블 분포 : \\n\", label_test.value_counts())"
   ]
  },
  {
   "cell_type": "code",
   "execution_count": null,
   "id": "caed8e82-365a-41ce-9a07-3a6137277df8",
   "metadata": {},
   "outputs": [],
   "source": [
    "#stratifiedKFold를 이용해 붓꽃데이터 교차 검증\n",
    "\n",
    "df_clf = DecisionTreeClassifier(random_state =156)\n",
    "\n",
    "#3개의 폴드 세트로 분리하는 strKF객체 생성\n",
    "skfold = StratifiedKFold(n_slits =3)\n",
    "\n",
    "#폴드 세트별 정확도를 담을 리스트 객체 생성\n",
    "cv_accuracy = []\n",
    "n=0\n",
    "\n",
    "for train_index, test_index in skfold.split(features, label):\n",
    "    X_train, X_test = features[train_index], features[test_index]\n",
    "    y_train, y_test = label[train_index], label[test_index]\n",
    "    \n",
    "    #학습 및 예측\n",
    "    df_clf.fit(X_Train, y_train)\n",
    "    pred = dt_clf.predict(X_test)\n",
    "    \n",
    "    #반복시마다 정확도 측정\n",
    "    n += 1\n",
    "    \n",
    "    acc = np.round(accuracy_score()\n",
    "                   \n"
   ]
  },
  {
   "cell_type": "markdown",
   "id": "86597e48-a177-4dc6-8c15-5a0fea4cf126",
   "metadata": {},
   "source": [
    "회귀분석에선 이산값이 아닌 연속 숫자값이라 분포를 정하는 의미가 없음\n",
    "즉 straitified K폴드 지원되지 않음."
   ]
  },
  {
   "cell_type": "markdown",
   "id": "b957b124-d274-46c7-a101-5dea96c5d717",
   "metadata": {},
   "source": []
  },
  {
   "cell_type": "markdown",
   "id": "3cc43d52-da73-40b9-b8d6-54421364d553",
   "metadata": {},
   "source": [
    "교차검증 간단방법\n",
    "1. 폴드세트 설정\n",
    "2. for문에서 반복적으로 학습 및 검증 데이터 추출 및 학습과 예측 수행\n",
    "3. 폴드 세트별로 예측 성능을 평균하여 최종 성능 평가\n",
    "\n",
    "cross_val_score()함수\n",
    "1~3단계 교차검증과정 한꺼번에 수행\n",
    "내부에서 Estimator를 학습(fit), 예측(prediect), 평가(evaluation)시켜주므로 간단하게 검증수행 가능\n",
    "\n",
    "함수 형식 cross_val_score(estimator, X,y=None, scoring=None, cv=None~ )\n",
    "\n",
    "estimator : classifier or regressor\n",
    "X :feature dataset\n",
    "y : label dataset\n",
    "scoreing : 예측성능평가지표\n",
    "cv : 교차검증 폴드수"
   ]
  },
  {
   "cell_type": "code",
   "execution_count": null,
   "id": "323235bc-204c-4207-926b-0ce244c8484f",
   "metadata": {},
   "outputs": [],
   "source": []
  },
  {
   "cell_type": "code",
   "execution_count": null,
   "id": "b58943ff-aff0-4e49-a450-586d308e369f",
   "metadata": {},
   "outputs": [],
   "source": [
    "#붓꽃 자료를 3개 폴드로 분할하여 학습 및 검증\n"
   ]
  },
  {
   "cell_type": "code",
   "execution_count": 68,
   "id": "84ab06bd-53d0-4cbc-b29f-f3338a424059",
   "metadata": {},
   "outputs": [
    {
     "name": "stdout",
     "output_type": "stream",
     "text": [
      "교차 검증별 정확도 :  [0.98 0.92 1.  ]\n",
      "평균 검증 정확도 :  0.9667\n"
     ]
    }
   ],
   "source": [
    "from sklearn.tree import DecisionTreeClassifier\n",
    "from sklearn.model_selection import cross_val_score, cross_validate\n",
    "from sklearn.datasets import load_iris\n",
    "\n",
    "import numpy as np\n",
    "\n",
    "iris = load_iris()\n",
    "dt_clf = DecisionTreeClassifier(random_state=156)\n",
    "\n",
    "features = iris.data #feature\n",
    "label = iris.target\n",
    "\n",
    "scores = cross_val_score(df_clf, features, label, scoring='accuracy', cv=3)\n",
    "print('교차 검증별 정확도 : ', scores)\n",
    "print('평균 검증 정확도 : ', np.round(np.mean(scores) ,4))"
   ]
  },
  {
   "cell_type": "code",
   "execution_count": null,
   "id": "b029df8d-0238-4ae8-a25d-674eb746280a",
   "metadata": {},
   "outputs": [],
   "source": []
  },
  {
   "cell_type": "markdown",
   "id": "351c7cea-9146-4250-84a6-595207db00a5",
   "metadata": {},
   "source": [
    "교차검증 최적의 하이퍼파라미터 튜닝을 한번에\n",
    "\n",
    "사이킷런의 GridSearchCV 클래스\n",
    "머신러닝의 알고리즘의 여러 하이퍼 파라미터를 집합 만들어 순차적으로 적용하면서 최적화 수행\n",
    "\n",
    "주요 파라미터\n",
    "estimator : classifier, regressor, peipeline\n",
    "param_grid : key + 리스트값을 가지는 딕셔너리\n",
    "scoring :평가방법 예)정확도\n",
    "cv : 검증위해 분할되는 학습/테스트 개수\n",
    "refit : default=True"
   ]
  },
  {
   "cell_type": "code",
   "execution_count": 75,
   "id": "aa5c98cb-aa06-4f02-9b1e-1ea39c1022dc",
   "metadata": {},
   "outputs": [],
   "source": [
    "#gridSearchCV를 이용해 결정트리 알고리즘의 여러가지 최적화 파라미터를 순차적으로 적용해서\n",
    "#붓꽃데이터 예측분석\n",
    "\n",
    "from sklearn.datasets import load_iris\n",
    "from sklearn.tree import DecisionTreeClassifier\n",
    "from sklearn.model_selection import GridSearchCV, train_test_split\n",
    "from sklearn.metrics import accuracy_score\n",
    "\n",
    "iris = load_iris()\n",
    "X_train, X_test, y_train, y_test = train_test_split(iris.data, iris.target, test_size=0.2, random_state=121)\n",
    "\n",
    "dt_clf = DecisionTreeClassifier()\n",
    "\n",
    "parameters = {'max_depth' : [1,2,3], 'min_samples_split':[2,3]}\n",
    "\n",
    "#하이퍼파라미터는 딕셔너리 형식으로 지정\n",
    "#key : 값이 결정트리의 하이퍼파라미터\n",
    "#value : 하이퍼파라미터의 값"
   ]
  },
  {
   "cell_type": "code",
   "execution_count": 79,
   "id": "b6735410-1d6c-4f98-914a-e5129cb9e683",
   "metadata": {},
   "outputs": [
    {
     "data": {
      "text/html": [
       "<div>\n",
       "<style scoped>\n",
       "    .dataframe tbody tr th:only-of-type {\n",
       "        vertical-align: middle;\n",
       "    }\n",
       "\n",
       "    .dataframe tbody tr th {\n",
       "        vertical-align: top;\n",
       "    }\n",
       "\n",
       "    .dataframe thead th {\n",
       "        text-align: right;\n",
       "    }\n",
       "</style>\n",
       "<table border=\"1\" class=\"dataframe\">\n",
       "  <thead>\n",
       "    <tr style=\"text-align: right;\">\n",
       "      <th></th>\n",
       "      <th>mean_fit_time</th>\n",
       "      <th>std_fit_time</th>\n",
       "      <th>mean_score_time</th>\n",
       "      <th>std_score_time</th>\n",
       "      <th>param_max_depth</th>\n",
       "      <th>param_min_samples_split</th>\n",
       "      <th>params</th>\n",
       "      <th>split0_test_score</th>\n",
       "      <th>split1_test_score</th>\n",
       "      <th>split2_test_score</th>\n",
       "      <th>mean_test_score</th>\n",
       "      <th>std_test_score</th>\n",
       "      <th>rank_test_score</th>\n",
       "      <th>split0_train_score</th>\n",
       "      <th>split1_train_score</th>\n",
       "      <th>split2_train_score</th>\n",
       "      <th>mean_train_score</th>\n",
       "      <th>std_train_score</th>\n",
       "    </tr>\n",
       "  </thead>\n",
       "  <tbody>\n",
       "    <tr>\n",
       "      <th>0</th>\n",
       "      <td>0.000895</td>\n",
       "      <td>0.000693</td>\n",
       "      <td>0.000508</td>\n",
       "      <td>0.000408</td>\n",
       "      <td>1</td>\n",
       "      <td>2</td>\n",
       "      <td>{'max_depth': 1, 'min_samples_split': 2}</td>\n",
       "      <td>0.700</td>\n",
       "      <td>0.7</td>\n",
       "      <td>0.70</td>\n",
       "      <td>0.700000</td>\n",
       "      <td>1.110223e-16</td>\n",
       "      <td>5</td>\n",
       "      <td>0.7000</td>\n",
       "      <td>0.7000</td>\n",
       "      <td>0.7000</td>\n",
       "      <td>0.700000</td>\n",
       "      <td>1.110223e-16</td>\n",
       "    </tr>\n",
       "    <tr>\n",
       "      <th>1</th>\n",
       "      <td>0.000326</td>\n",
       "      <td>0.000461</td>\n",
       "      <td>0.000000</td>\n",
       "      <td>0.000000</td>\n",
       "      <td>1</td>\n",
       "      <td>3</td>\n",
       "      <td>{'max_depth': 1, 'min_samples_split': 3}</td>\n",
       "      <td>0.700</td>\n",
       "      <td>0.7</td>\n",
       "      <td>0.70</td>\n",
       "      <td>0.700000</td>\n",
       "      <td>1.110223e-16</td>\n",
       "      <td>5</td>\n",
       "      <td>0.7000</td>\n",
       "      <td>0.7000</td>\n",
       "      <td>0.7000</td>\n",
       "      <td>0.700000</td>\n",
       "      <td>1.110223e-16</td>\n",
       "    </tr>\n",
       "    <tr>\n",
       "      <th>2</th>\n",
       "      <td>0.000834</td>\n",
       "      <td>0.000844</td>\n",
       "      <td>0.000333</td>\n",
       "      <td>0.000471</td>\n",
       "      <td>2</td>\n",
       "      <td>2</td>\n",
       "      <td>{'max_depth': 2, 'min_samples_split': 2}</td>\n",
       "      <td>0.925</td>\n",
       "      <td>1.0</td>\n",
       "      <td>0.95</td>\n",
       "      <td>0.958333</td>\n",
       "      <td>3.118048e-02</td>\n",
       "      <td>3</td>\n",
       "      <td>0.9750</td>\n",
       "      <td>0.9375</td>\n",
       "      <td>0.9625</td>\n",
       "      <td>0.958333</td>\n",
       "      <td>1.559024e-02</td>\n",
       "    </tr>\n",
       "    <tr>\n",
       "      <th>3</th>\n",
       "      <td>0.000999</td>\n",
       "      <td>0.000004</td>\n",
       "      <td>0.000330</td>\n",
       "      <td>0.000467</td>\n",
       "      <td>2</td>\n",
       "      <td>3</td>\n",
       "      <td>{'max_depth': 2, 'min_samples_split': 3}</td>\n",
       "      <td>0.925</td>\n",
       "      <td>1.0</td>\n",
       "      <td>0.95</td>\n",
       "      <td>0.958333</td>\n",
       "      <td>3.118048e-02</td>\n",
       "      <td>3</td>\n",
       "      <td>0.9750</td>\n",
       "      <td>0.9375</td>\n",
       "      <td>0.9625</td>\n",
       "      <td>0.958333</td>\n",
       "      <td>1.559024e-02</td>\n",
       "    </tr>\n",
       "    <tr>\n",
       "      <th>4</th>\n",
       "      <td>0.000338</td>\n",
       "      <td>0.000477</td>\n",
       "      <td>0.000000</td>\n",
       "      <td>0.000000</td>\n",
       "      <td>3</td>\n",
       "      <td>2</td>\n",
       "      <td>{'max_depth': 3, 'min_samples_split': 2}</td>\n",
       "      <td>0.975</td>\n",
       "      <td>1.0</td>\n",
       "      <td>0.95</td>\n",
       "      <td>0.975000</td>\n",
       "      <td>2.041241e-02</td>\n",
       "      <td>1</td>\n",
       "      <td>0.9875</td>\n",
       "      <td>0.9625</td>\n",
       "      <td>0.9875</td>\n",
       "      <td>0.979167</td>\n",
       "      <td>1.178511e-02</td>\n",
       "    </tr>\n",
       "    <tr>\n",
       "      <th>5</th>\n",
       "      <td>0.000333</td>\n",
       "      <td>0.000470</td>\n",
       "      <td>0.000330</td>\n",
       "      <td>0.000467</td>\n",
       "      <td>3</td>\n",
       "      <td>3</td>\n",
       "      <td>{'max_depth': 3, 'min_samples_split': 3}</td>\n",
       "      <td>0.975</td>\n",
       "      <td>1.0</td>\n",
       "      <td>0.95</td>\n",
       "      <td>0.975000</td>\n",
       "      <td>2.041241e-02</td>\n",
       "      <td>1</td>\n",
       "      <td>0.9875</td>\n",
       "      <td>0.9625</td>\n",
       "      <td>0.9875</td>\n",
       "      <td>0.979167</td>\n",
       "      <td>1.178511e-02</td>\n",
       "    </tr>\n",
       "  </tbody>\n",
       "</table>\n",
       "</div>"
      ],
      "text/plain": [
       "   mean_fit_time  std_fit_time  mean_score_time  std_score_time  \\\n",
       "0       0.000895      0.000693         0.000508        0.000408   \n",
       "1       0.000326      0.000461         0.000000        0.000000   \n",
       "2       0.000834      0.000844         0.000333        0.000471   \n",
       "3       0.000999      0.000004         0.000330        0.000467   \n",
       "4       0.000338      0.000477         0.000000        0.000000   \n",
       "5       0.000333      0.000470         0.000330        0.000467   \n",
       "\n",
       "  param_max_depth param_min_samples_split  \\\n",
       "0               1                       2   \n",
       "1               1                       3   \n",
       "2               2                       2   \n",
       "3               2                       3   \n",
       "4               3                       2   \n",
       "5               3                       3   \n",
       "\n",
       "                                     params  split0_test_score  \\\n",
       "0  {'max_depth': 1, 'min_samples_split': 2}              0.700   \n",
       "1  {'max_depth': 1, 'min_samples_split': 3}              0.700   \n",
       "2  {'max_depth': 2, 'min_samples_split': 2}              0.925   \n",
       "3  {'max_depth': 2, 'min_samples_split': 3}              0.925   \n",
       "4  {'max_depth': 3, 'min_samples_split': 2}              0.975   \n",
       "5  {'max_depth': 3, 'min_samples_split': 3}              0.975   \n",
       "\n",
       "   split1_test_score  split2_test_score  mean_test_score  std_test_score  \\\n",
       "0                0.7               0.70         0.700000    1.110223e-16   \n",
       "1                0.7               0.70         0.700000    1.110223e-16   \n",
       "2                1.0               0.95         0.958333    3.118048e-02   \n",
       "3                1.0               0.95         0.958333    3.118048e-02   \n",
       "4                1.0               0.95         0.975000    2.041241e-02   \n",
       "5                1.0               0.95         0.975000    2.041241e-02   \n",
       "\n",
       "   rank_test_score  split0_train_score  split1_train_score  \\\n",
       "0                5              0.7000              0.7000   \n",
       "1                5              0.7000              0.7000   \n",
       "2                3              0.9750              0.9375   \n",
       "3                3              0.9750              0.9375   \n",
       "4                1              0.9875              0.9625   \n",
       "5                1              0.9875              0.9625   \n",
       "\n",
       "   split2_train_score  mean_train_score  std_train_score  \n",
       "0              0.7000          0.700000     1.110223e-16  \n",
       "1              0.7000          0.700000     1.110223e-16  \n",
       "2              0.9625          0.958333     1.559024e-02  \n",
       "3              0.9625          0.958333     1.559024e-02  \n",
       "4              0.9875          0.979167     1.178511e-02  \n",
       "5              0.9875          0.979167     1.178511e-02  "
      ]
     },
     "execution_count": 79,
     "metadata": {},
     "output_type": "execute_result"
    }
   ],
   "source": [
    "grid_tree = GridSearchCV(dt_clf, param_grid=parameters, cv=3, refit=True, return_train_score=True)\n",
    "\n",
    "grid_tree.fit(X_train, y_train)\n",
    "\n",
    "scores_df = pd.DataFrame(grid_tree.cv_results_)\n",
    "scores_df"
   ]
  },
  {
   "cell_type": "code",
   "execution_count": 82,
   "id": "8c213038-19b3-48f8-93da-bb812534be97",
   "metadata": {},
   "outputs": [
    {
     "data": {
      "text/plain": [
       "{'mean_fit_time': array([0.00089494, 0.00032584, 0.00083359, 0.00099913, 0.0003376 ,\n",
       "        0.00033251]),\n",
       " 'std_fit_time': array([6.92563371e-04, 4.60805544e-04, 8.44338235e-04, 3.77642453e-06,\n",
       "        4.77439500e-04, 4.70246438e-04]),\n",
       " 'mean_score_time': array([0.00050807, 0.        , 0.00033291, 0.00032997, 0.        ,\n",
       "        0.00033029]),\n",
       " 'std_score_time': array([0.00040838, 0.        , 0.00047081, 0.00046665, 0.        ,\n",
       "        0.0004671 ]),\n",
       " 'param_max_depth': masked_array(data=[1, 1, 2, 2, 3, 3],\n",
       "              mask=[False, False, False, False, False, False],\n",
       "        fill_value='?',\n",
       "             dtype=object),\n",
       " 'param_min_samples_split': masked_array(data=[2, 3, 2, 3, 2, 3],\n",
       "              mask=[False, False, False, False, False, False],\n",
       "        fill_value='?',\n",
       "             dtype=object),\n",
       " 'params': [{'max_depth': 1, 'min_samples_split': 2},\n",
       "  {'max_depth': 1, 'min_samples_split': 3},\n",
       "  {'max_depth': 2, 'min_samples_split': 2},\n",
       "  {'max_depth': 2, 'min_samples_split': 3},\n",
       "  {'max_depth': 3, 'min_samples_split': 2},\n",
       "  {'max_depth': 3, 'min_samples_split': 3}],\n",
       " 'split0_test_score': array([0.7  , 0.7  , 0.925, 0.925, 0.975, 0.975]),\n",
       " 'split1_test_score': array([0.7, 0.7, 1. , 1. , 1. , 1. ]),\n",
       " 'split2_test_score': array([0.7 , 0.7 , 0.95, 0.95, 0.95, 0.95]),\n",
       " 'mean_test_score': array([0.7       , 0.7       , 0.95833333, 0.95833333, 0.975     ,\n",
       "        0.975     ]),\n",
       " 'std_test_score': array([1.11022302e-16, 1.11022302e-16, 3.11804782e-02, 3.11804782e-02,\n",
       "        2.04124145e-02, 2.04124145e-02]),\n",
       " 'rank_test_score': array([5, 5, 3, 3, 1, 1]),\n",
       " 'split0_train_score': array([0.7   , 0.7   , 0.975 , 0.975 , 0.9875, 0.9875]),\n",
       " 'split1_train_score': array([0.7   , 0.7   , 0.9375, 0.9375, 0.9625, 0.9625]),\n",
       " 'split2_train_score': array([0.7   , 0.7   , 0.9625, 0.9625, 0.9875, 0.9875]),\n",
       " 'mean_train_score': array([0.7       , 0.7       , 0.95833333, 0.95833333, 0.97916667,\n",
       "        0.97916667]),\n",
       " 'std_train_score': array([1.11022302e-16, 1.11022302e-16, 1.55902391e-02, 1.55902391e-02,\n",
       "        1.17851130e-02, 1.17851130e-02])}"
      ]
     },
     "execution_count": 82,
     "metadata": {},
     "output_type": "execute_result"
    }
   ],
   "source": [
    "#파라미터 확인\n",
    "grid_tree.cv_results_"
   ]
  },
  {
   "cell_type": "code",
   "execution_count": 83,
   "id": "1a2b511a-bbc9-4a18-b583-a6b65c06bfd4",
   "metadata": {},
   "outputs": [
    {
     "data": {
      "text/html": [
       "<div>\n",
       "<style scoped>\n",
       "    .dataframe tbody tr th:only-of-type {\n",
       "        vertical-align: middle;\n",
       "    }\n",
       "\n",
       "    .dataframe tbody tr th {\n",
       "        vertical-align: top;\n",
       "    }\n",
       "\n",
       "    .dataframe thead th {\n",
       "        text-align: right;\n",
       "    }\n",
       "</style>\n",
       "<table border=\"1\" class=\"dataframe\">\n",
       "  <thead>\n",
       "    <tr style=\"text-align: right;\">\n",
       "      <th></th>\n",
       "      <th>params</th>\n",
       "      <th>mean_test_score</th>\n",
       "      <th>rank_test_score</th>\n",
       "    </tr>\n",
       "  </thead>\n",
       "  <tbody>\n",
       "    <tr>\n",
       "      <th>0</th>\n",
       "      <td>{'max_depth': 1, 'min_samples_split': 2}</td>\n",
       "      <td>0.700000</td>\n",
       "      <td>5</td>\n",
       "    </tr>\n",
       "    <tr>\n",
       "      <th>1</th>\n",
       "      <td>{'max_depth': 1, 'min_samples_split': 3}</td>\n",
       "      <td>0.700000</td>\n",
       "      <td>5</td>\n",
       "    </tr>\n",
       "    <tr>\n",
       "      <th>2</th>\n",
       "      <td>{'max_depth': 2, 'min_samples_split': 2}</td>\n",
       "      <td>0.958333</td>\n",
       "      <td>3</td>\n",
       "    </tr>\n",
       "    <tr>\n",
       "      <th>3</th>\n",
       "      <td>{'max_depth': 2, 'min_samples_split': 3}</td>\n",
       "      <td>0.958333</td>\n",
       "      <td>3</td>\n",
       "    </tr>\n",
       "    <tr>\n",
       "      <th>4</th>\n",
       "      <td>{'max_depth': 3, 'min_samples_split': 2}</td>\n",
       "      <td>0.975000</td>\n",
       "      <td>1</td>\n",
       "    </tr>\n",
       "    <tr>\n",
       "      <th>5</th>\n",
       "      <td>{'max_depth': 3, 'min_samples_split': 3}</td>\n",
       "      <td>0.975000</td>\n",
       "      <td>1</td>\n",
       "    </tr>\n",
       "  </tbody>\n",
       "</table>\n",
       "</div>"
      ],
      "text/plain": [
       "                                     params  mean_test_score  rank_test_score\n",
       "0  {'max_depth': 1, 'min_samples_split': 2}         0.700000                5\n",
       "1  {'max_depth': 1, 'min_samples_split': 3}         0.700000                5\n",
       "2  {'max_depth': 2, 'min_samples_split': 2}         0.958333                3\n",
       "3  {'max_depth': 2, 'min_samples_split': 3}         0.958333                3\n",
       "4  {'max_depth': 3, 'min_samples_split': 2}         0.975000                1\n",
       "5  {'max_depth': 3, 'min_samples_split': 3}         0.975000                1"
      ]
     },
     "execution_count": 83,
     "metadata": {},
     "output_type": "execute_result"
    }
   ],
   "source": [
    "#GridSearchCV결과 세트로 딕셔너리 형태인 CV_RESULTS를\n",
    "#Dataframe으로 변후 일부 파라미터 확인\n",
    "scores_df[['params', 'mean_test_score', 'rank_test_score']]"
   ]
  },
  {
   "cell_type": "code",
   "execution_count": 89,
   "id": "38eb9225-1d7e-4e19-a6ea-2f28bde1cf65",
   "metadata": {},
   "outputs": [
    {
     "name": "stdout",
     "output_type": "stream",
     "text": [
      "최적 파라미터: {'max_depth': 3, 'min_samples_split': 2}\n",
      "최고 정확도: 0.975\n"
     ]
    }
   ],
   "source": [
    "#최고성능을 가지는 파라미터 조합 및 예측성능 1위값 출력\n",
    "\n",
    "print('최적 파라미터:',grid_tree.best_params_)\n",
    "print('최고 정확도:',grid_tree.best_score_)"
   ]
  },
  {
   "cell_type": "code",
   "execution_count": 90,
   "id": "aa5d636c-77b7-46c5-9ff9-befa4a87e7c3",
   "metadata": {},
   "outputs": [
    {
     "data": {
      "text/plain": [
       "0.9666666666666667"
      ]
     },
     "execution_count": 90,
     "metadata": {},
     "output_type": "execute_result"
    }
   ],
   "source": [
    "#GridSearchCV객체의 생성파라미터로 refit=True로 설정된경우(디폴트)\n",
    "#GRID~cv가 최적성능을 나타내느 하이퍼 파라미터로 Estimator를 학습하고\n",
    "#best_estimator_로 저장\n",
    "#~cv의 refit으로 이미 학습이 된 estimator\n",
    "best_dt = grid_tree.best_estimator_\n",
    "\n",
    "#BEst_estimator는 이미 최적학습이 됐으므로 별도 학습 필요없이 바로 예측가능\n",
    "pred = best_dt.predict(X_test)\n",
    "accuracy_score(y_test, pred)"
   ]
  },
  {
   "cell_type": "markdown",
   "id": "ccd6dc46-0fc9-4a73-aeb8-1c4fbff61727",
   "metadata": {},
   "source": [
    "일반적인 머신러닝 모델 적용방법\n",
    "일반적으로 학습데이터를 GridSearchCV를 이용해\n",
    "최적의 하이퍼 파라미터 튜닝을 수행한 뒤에\n",
    "별도의 테스트 세트에서 이를 평가하는 방식\n"
   ]
  },
  {
   "cell_type": "code",
   "execution_count": null,
   "id": "01f5387d-50fc-4417-8895-1e7fb83c0ef5",
   "metadata": {},
   "outputs": [],
   "source": []
  }
 ],
 "metadata": {
  "kernelspec": {
   "display_name": "multi",
   "language": "python",
   "name": "multi"
  },
  "language_info": {
   "codemirror_mode": {
    "name": "ipython",
    "version": 3
   },
   "file_extension": ".py",
   "mimetype": "text/x-python",
   "name": "python",
   "nbconvert_exporter": "python",
   "pygments_lexer": "ipython3",
   "version": "3.8.3"
  }
 },
 "nbformat": 4,
 "nbformat_minor": 5
}
