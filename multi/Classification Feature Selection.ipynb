{
 "cells": [
  {
   "cell_type": "markdown",
   "id": "1e0c59a7-48b4-451f-940d-9053347d6769",
   "metadata": {},
   "source": [
    "\n",
    "##Classification Feature Selection:\n",
    "(Numerical Input, Categorical Output)\n",
    "\n",
    "Feature selection is performed using ANOVA F measure via the f_classif() function."
   ]
  },
  {
   "cell_type": "code",
   "execution_count": 1,
   "id": "5aaa1416-5d04-4ebb-9c32-902c9f94d450",
   "metadata": {},
   "outputs": [],
   "source": [
    "# ANOVA feature selection for numeric input and categorical output\n",
    "from sklearn.datasets import make_classification\n",
    "from sklearn.feature_selection import SelectKBest\n",
    "from sklearn.feature_selection import f_classif"
   ]
  },
  {
   "cell_type": "code",
   "execution_count": 1,
   "id": "be2b2a96-f928-4ec1-bf14-254128a44cd8",
   "metadata": {},
   "outputs": [],
   "source": [
    "# generate dataset\n",
    "X, y = make_classification(n_samples=100, n_features=20, n_informative=2)"
   ]
  },
  {
   "cell_type": "code",
   "execution_count": 1,
   "id": "843f93de-42a1-4628-b092-e8a0b5c8d27f",
   "metadata": {},
   "outputs": [],
   "source": []
  },
  {
   "cell_type": "code",
   "execution_count": 1,
   "id": "88d92621-2912-4572-a8ee-9842d953a71c",
   "metadata": {},
   "outputs": [],
   "source": [
    "# define feature selection\n",
    "fs = SelectKBest(score_func=f_classif, k=2)"
   ]
  },
  {
   "cell_type": "code",
   "execution_count": 1,
   "id": "55c46138-170a-4e88-8909-6705d649256f",
   "metadata": {},
   "outputs": [],
   "source": [
    "# define feature selection(카이스케어)\n",
    "fs = SelectKBest(score_func=chi, k=2)"
   ]
  },
  {
   "cell_type": "code",
   "execution_count": 1,
   "id": "a3a3acfb-adb5-4670-90d0-4c1fb39a3ecd",
   "metadata": {},
   "outputs": [],
   "source": [
    "# apply feature selection\n",
    "X_selected = fs.fit_transform(X, y)\n",
    "print(X_selected.shape)"
   ]
  },
  {
   "cell_type": "code",
   "execution_count": 1,
   "id": "3b9af2b2-77b7-4c4d-a58c-90e66d704533",
   "metadata": {},
   "outputs": [
    {
     "name": "stdout",
     "output_type": "stream",
     "text": [
      "(100, 2)\n"
     ]
    }
   ],
   "source": []
  },
  {
   "cell_type": "code",
   "execution_count": null,
   "id": "66098688-a071-4c19-980c-6de6326c8248",
   "metadata": {},
   "outputs": [],
   "source": []
  },
  {
   "cell_type": "code",
   "execution_count": null,
   "id": "23272f2b-903b-4b5c-9036-ffe2d56661ed",
   "metadata": {},
   "outputs": [],
   "source": []
  },
  {
   "cell_type": "code",
   "execution_count": null,
   "id": "5a5df28b-9b34-41e6-81b0-0b28dcbbc71c",
   "metadata": {},
   "outputs": [],
   "source": []
  },
  {
   "cell_type": "code",
   "execution_count": null,
   "id": "014ca336-dc2f-43d1-b759-9a4c28561bcf",
   "metadata": {},
   "outputs": [],
   "source": []
  },
  {
   "cell_type": "code",
   "execution_count": null,
   "id": "f7627da8-1a7f-4e1c-b0fa-c3e511429000",
   "metadata": {},
   "outputs": [],
   "source": []
  },
  {
   "cell_type": "code",
   "execution_count": null,
   "id": "aaa8ec71-af5e-4da2-bbf9-6936298f13f2",
   "metadata": {},
   "outputs": [],
   "source": []
  },
  {
   "cell_type": "code",
   "execution_count": null,
   "id": "b9c79d8a-bd24-4208-9c24-48b4a8b32985",
   "metadata": {},
   "outputs": [],
   "source": []
  },
  {
   "cell_type": "code",
   "execution_count": null,
   "id": "ae5c025f-bd20-444d-90cc-05c1f9b48429",
   "metadata": {},
   "outputs": [],
   "source": []
  },
  {
   "cell_type": "code",
   "execution_count": null,
   "id": "fa32d231-b906-4621-9478-fa2af7a460c7",
   "metadata": {},
   "outputs": [],
   "source": []
  },
  {
   "cell_type": "code",
   "execution_count": null,
   "id": "c738cf55-65a7-4ed2-8543-9fb71c03bf4d",
   "metadata": {},
   "outputs": [],
   "source": []
  },
  {
   "cell_type": "code",
   "execution_count": null,
   "id": "dc064229-6101-4110-bd9f-657a5de90408",
   "metadata": {},
   "outputs": [],
   "source": []
  }
 ],
 "metadata": {
  "kernelspec": {
   "display_name": "Python Multi",
   "language": "python",
   "name": "multi"
  },
  "language_info": {
   "codemirror_mode": {
    "name": "ipython",
    "version": 3
   },
   "file_extension": ".py",
   "mimetype": "text/x-python",
   "name": "python",
   "nbconvert_exporter": "python",
   "pygments_lexer": "ipython3",
   "version": "3.7.6"
  }
 },
 "nbformat": 4,
 "nbformat_minor": 5
}
