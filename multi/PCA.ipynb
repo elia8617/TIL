{
 "cells": [
  {
   "cell_type": "code",
   "execution_count": 26,
   "id": "6081a9a2-f34b-4dff-b6e3-6982e0f7c198",
   "metadata": {},
   "outputs": [],
   "source": [
    "#PCA"
   ]
  },
  {
   "cell_type": "code",
   "execution_count": 27,
   "id": "dfe5cf23-ead8-4889-ad21-1d93dcd901d7",
   "metadata": {},
   "outputs": [],
   "source": [
    "# example of pca for dimensionality reduction\n",
    "from sklearn.datasets import make_classification\n",
    "from sklearn.decomposition import PCA"
   ]
  },
  {
   "cell_type": "code",
   "execution_count": 28,
   "id": "264d05bc-8fd0-4c05-b1e1-463d0801e56b",
   "metadata": {},
   "outputs": [
    {
     "name": "stdout",
     "output_type": "stream",
     "text": [
      "[[-0.53448246  0.93837451  0.38969914  0.0926655   1.70876508  1.14351305\n",
      "  -1.47034214  0.11857673 -2.72241741  0.2953565 ]\n",
      " [-2.42280473 -1.02658758 -2.34792156 -0.82422408  0.59933419 -2.44832253\n",
      "   0.39750207  2.0265065   1.83374105  0.72430365]\n",
      " [-1.83391794 -1.1946668  -0.73806871  1.50947233  1.78047734  0.58779205\n",
      "  -2.78506977 -0.04163788 -1.25227833  0.99373587]]\n"
     ]
    }
   ],
   "source": [
    "# define dataset\n",
    "X, y = make_classification(n_samples=1000, n_features=10, n_informative=3, n_redundant=7,\n",
    "random_state=1)\n",
    "\n",
    "# summarize data before the transform\n",
    "print(X[:3, :])"
   ]
  },
  {
   "cell_type": "code",
   "execution_count": 29,
   "id": "757e5648-88d2-48ab-ae5c-c6472e92ea0f",
   "metadata": {},
   "outputs": [],
   "source": [
    "# define the transform\n",
    "trans = PCA(n_components=5)"
   ]
  },
  {
   "cell_type": "code",
   "execution_count": 30,
   "id": "6021eddf-fb4b-412c-823d-655bd006bc53",
   "metadata": {},
   "outputs": [],
   "source": [
    "# transform the data\n",
    "X_dim = trans.fit_transform(X)"
   ]
  },
  {
   "cell_type": "code",
   "execution_count": 31,
   "id": "d4bab8a1-8868-4107-b758-065f6494e979",
   "metadata": {},
   "outputs": [
    {
     "name": "stdout",
     "output_type": "stream",
     "text": [
      "[[-1.64710578e+00 -2.11683302e+00  1.98256096e+00 -9.45014684e-16\n",
      "  -3.98665439e-16]\n",
      " [ 9.28402085e-01  4.82949970e+00  2.27270432e-01 -9.65818564e-16\n",
      "   7.46616115e-16]\n",
      " [-3.83677757e+00  3.23007138e-01  1.15128013e-01  3.33789410e-16\n",
      "   4.10449136e-16]]\n"
     ]
    }
   ],
   "source": [
    "# summarize data after the transform\n",
    "print(X_dim[:3, :])"
   ]
  },
  {
   "cell_type": "code",
   "execution_count": null,
   "id": "36f92a69-d44f-4659-80c5-85577c4ca6d1",
   "metadata": {},
   "outputs": [],
   "source": []
  },
  {
   "cell_type": "code",
   "execution_count": 32,
   "id": "8a3e36d4-d97e-4641-8b5e-95d7524bc94c",
   "metadata": {},
   "outputs": [],
   "source": [
    "#RFE했던 data set갖고 해보기"
   ]
  },
  {
   "cell_type": "code",
   "execution_count": 33,
   "id": "b988b779-a209-4f56-9c7b-c5556d3b2fb5",
   "metadata": {},
   "outputs": [],
   "source": [
    "from sklearn.datasets import make_classification\n",
    "from sklearn.feature_selection import RFE\n",
    "from sklearn.tree import DecisionTreeClassifier"
   ]
  },
  {
   "cell_type": "code",
   "execution_count": 34,
   "id": "19ec5ae3-1f41-4416-bba5-91a894bc96b9",
   "metadata": {},
   "outputs": [],
   "source": [
    "X, y = make_classification(n_samples=1000, n_features=10, n_informative=5, n_redundant=5,\n",
    "random_state=1)"
   ]
  },
  {
   "cell_type": "code",
   "execution_count": 35,
   "id": "d731912a-7dfc-4046-a2f9-38cd0f7a6bd8",
   "metadata": {},
   "outputs": [
    {
     "data": {
      "text/plain": [
       "(1000, 10)"
      ]
     },
     "execution_count": 35,
     "metadata": {},
     "output_type": "execute_result"
    }
   ],
   "source": [
    "X.shape"
   ]
  },
  {
   "cell_type": "code",
   "execution_count": 36,
   "id": "7e8bcb62-377b-44cd-854c-4c625901c6d9",
   "metadata": {},
   "outputs": [
    {
     "data": {
      "text/plain": [
       "(1000,)"
      ]
     },
     "execution_count": 36,
     "metadata": {},
     "output_type": "execute_result"
    }
   ],
   "source": [
    "y.shape"
   ]
  },
  {
   "cell_type": "code",
   "execution_count": 37,
   "id": "0a25d54e-162f-45ab-9493-d5c1a86bbcca",
   "metadata": {},
   "outputs": [
    {
     "data": {
      "text/plain": [
       "1"
      ]
     },
     "execution_count": 37,
     "metadata": {},
     "output_type": "execute_result"
    }
   ],
   "source": [
    "y.ndim"
   ]
  },
  {
   "cell_type": "code",
   "execution_count": 38,
   "id": "d018ee93-0adb-4f4b-ae14-a0f1716fa508",
   "metadata": {},
   "outputs": [],
   "source": [
    "pca = PCA(n_components=5)"
   ]
  },
  {
   "cell_type": "code",
   "execution_count": 39,
   "id": "8ee6e492-f0bd-4b73-af66-df39bd71645e",
   "metadata": {},
   "outputs": [
    {
     "data": {
      "text/plain": [
       "PCA(n_components=5)"
      ]
     },
     "execution_count": 39,
     "metadata": {},
     "output_type": "execute_result"
    }
   ],
   "source": [
    "pca"
   ]
  },
  {
   "cell_type": "code",
   "execution_count": 45,
   "id": "283128d2-2d5d-4e91-808a-a57e10e2b904",
   "metadata": {},
   "outputs": [],
   "source": [
    "pca.fit(X, y)"
   ]
  },
  {
   "cell_type": "code",
   "execution_count": 47,
   "id": "dd7f7d77-d548-4d61-986d-f6d73d2e21a4",
   "metadata": {},
   "outputs": [],
   "source": [
    "X_dim = pca.fit_transform(X)"
   ]
  },
  {
   "cell_type": "code",
   "execution_count": 48,
   "id": "3aab7543-9cb6-4d4a-978b-0e61a20cfab3",
   "metadata": {},
   "outputs": [
    {
     "data": {
      "text/plain": [
       "array([[ 4.77765652,  2.99691037,  4.62336298, -0.39099639,  0.78634788],\n",
       "       [-5.14824625, -4.93141748,  0.28896085, -2.86415263,  0.77679174],\n",
       "       [-1.60657696, -3.07170359,  1.9735171 ,  1.63736555,  1.15871786],\n",
       "       ...,\n",
       "       [-0.921426  ,  0.70420245,  1.78671515, -0.02704185,  2.03332402],\n",
       "       [-4.25514814, -3.50105345,  2.7615078 ,  0.12278812,  0.22569684],\n",
       "       [-3.30523525,  2.19321819,  2.49673914, -0.02567887, -0.5880635 ]])"
      ]
     },
     "execution_count": 48,
     "metadata": {},
     "output_type": "execute_result"
    }
   ],
   "source": [
    "X_dim"
   ]
  },
  {
   "cell_type": "code",
   "execution_count": 49,
   "id": "9583863b-e489-419c-8231-1119ff923a6c",
   "metadata": {},
   "outputs": [
    {
     "ename": "AttributeError",
     "evalue": "'PCA' object has no attribute 'support_'",
     "output_type": "error",
     "traceback": [
      "\u001b[1;31m---------------------------------------------------------------------------\u001b[0m",
      "\u001b[1;31mAttributeError\u001b[0m                            Traceback (most recent call last)",
      "\u001b[1;32m<ipython-input-49-618f1ae5fabe>\u001b[0m in \u001b[0;36m<module>\u001b[1;34m\u001b[0m\n\u001b[0;32m      1\u001b[0m \u001b[1;32mfor\u001b[0m \u001b[0mi\u001b[0m \u001b[1;32min\u001b[0m \u001b[0mrange\u001b[0m\u001b[1;33m(\u001b[0m\u001b[0mX\u001b[0m\u001b[1;33m.\u001b[0m\u001b[0mshape\u001b[0m\u001b[1;33m[\u001b[0m\u001b[1;36m1\u001b[0m\u001b[1;33m]\u001b[0m\u001b[1;33m)\u001b[0m\u001b[1;33m:\u001b[0m\u001b[1;33m\u001b[0m\u001b[1;33m\u001b[0m\u001b[0m\n\u001b[1;32m----> 2\u001b[1;33m   \u001b[0mprint\u001b[0m\u001b[1;33m(\u001b[0m\u001b[1;34m'Column: %d, Selected=%s, Rank: %d'\u001b[0m \u001b[1;33m%\u001b[0m\u001b[1;33m(\u001b[0m\u001b[0mi\u001b[0m\u001b[1;33m,\u001b[0m \u001b[0mpca\u001b[0m\u001b[1;33m.\u001b[0m\u001b[0msupport_\u001b[0m\u001b[1;33m[\u001b[0m\u001b[0mi\u001b[0m\u001b[1;33m]\u001b[0m\u001b[1;33m,\u001b[0m \u001b[0mpca\u001b[0m\u001b[1;33m.\u001b[0m\u001b[0mranking_\u001b[0m\u001b[1;33m[\u001b[0m\u001b[0mi\u001b[0m\u001b[1;33m]\u001b[0m\u001b[1;33m)\u001b[0m\u001b[1;33m)\u001b[0m\u001b[1;33m\u001b[0m\u001b[1;33m\u001b[0m\u001b[0m\n\u001b[0m",
      "\u001b[1;31mAttributeError\u001b[0m: 'PCA' object has no attribute 'support_'"
     ]
    }
   ],
   "source": [
    "#for i in range(X.shape[1]): RFE처럼 어떻게 풀어낼 수 있을까..\n",
    "#  print('Column: %d, Selected=%s, Rank: %d' %(i, pca.support_[i], pca.ranking_[i]))"
   ]
  },
  {
   "cell_type": "code",
   "execution_count": 50,
   "id": "690b2cb8-3bdb-4a79-8060-55daea497d45",
   "metadata": {},
   "outputs": [
    {
     "name": "stdout",
     "output_type": "stream",
     "text": [
      "[[ 4.77765652  2.99691037  4.62336298 -0.39099639  0.78634788]\n",
      " [-5.14824625 -4.93141748  0.28896085 -2.86415263  0.77679174]\n",
      " [-1.60657696 -3.07170359  1.9735171   1.63736555  1.15871786]]\n"
     ]
    }
   ],
   "source": [
    "print(X_dim[:3, :])"
   ]
  },
  {
   "cell_type": "code",
   "execution_count": null,
   "id": "f9738132-2730-4d15-a9dd-a67643562ad8",
   "metadata": {},
   "outputs": [],
   "source": []
  }
 ],
 "metadata": {
  "kernelspec": {
   "display_name": "Python Multi",
   "language": "python",
   "name": "multi"
  },
  "language_info": {
   "codemirror_mode": {
    "name": "ipython",
    "version": 3
   },
   "file_extension": ".py",
   "mimetype": "text/x-python",
   "name": "python",
   "nbconvert_exporter": "python",
   "pygments_lexer": "ipython3",
   "version": "3.7.6"
  }
 },
 "nbformat": 4,
 "nbformat_minor": 5
}
