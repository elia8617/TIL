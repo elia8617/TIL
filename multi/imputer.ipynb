{
 "cells": [
  {
   "cell_type": "code",
   "execution_count": 22,
   "id": "5600fb1d-831e-4e6c-af48-0fa64b6ff2b3",
   "metadata": {},
   "outputs": [],
   "source": [
    "# statistical imputation transform for the horse colic dataset\n",
    "\n",
    "from numpy import isnan\n",
    "from pandas import read_csv\n",
    "from sklearn.impute import SimpleImputer"
   ]
  },
  {
   "cell_type": "code",
   "execution_count": 23,
   "id": "a18e69e9-e51d-403a-b729-2fc2ef3c56fc",
   "metadata": {},
   "outputs": [],
   "source": [
    "# load dataset\n",
    "url = 'https://raw.githubusercontent.com/jbrownlee/Datasets/master/horse-colic.csv'\n",
    "dataframe = read_csv(url, header=None, na_values='?')"
   ]
  },
  {
   "cell_type": "code",
   "execution_count": 24,
   "id": "ae1a5097-f5ef-411d-9b91-a3afa7d8df19",
   "metadata": {},
   "outputs": [
    {
     "name": "stdout",
     "output_type": "stream",
     "text": [
      "<class 'pandas.core.frame.DataFrame'>\n",
      "RangeIndex: 300 entries, 0 to 299\n",
      "Data columns (total 28 columns):\n",
      " #   Column  Non-Null Count  Dtype  \n",
      "---  ------  --------------  -----  \n",
      " 0   0       299 non-null    float64\n",
      " 1   1       300 non-null    int64  \n",
      " 2   2       300 non-null    int64  \n",
      " 3   3       240 non-null    float64\n",
      " 4   4       276 non-null    float64\n",
      " 5   5       242 non-null    float64\n",
      " 6   6       244 non-null    float64\n",
      " 7   7       231 non-null    float64\n",
      " 8   8       253 non-null    float64\n",
      " 9   9       268 non-null    float64\n",
      " 10  10      245 non-null    float64\n",
      " 11  11      256 non-null    float64\n",
      " 12  12      244 non-null    float64\n",
      " 13  13      196 non-null    float64\n",
      " 14  14      194 non-null    float64\n",
      " 15  15      53 non-null     float64\n",
      " 16  16      198 non-null    float64\n",
      " 17  17      182 non-null    float64\n",
      " 18  18      271 non-null    float64\n",
      " 19  19      267 non-null    float64\n",
      " 20  20      135 non-null    float64\n",
      " 21  21      102 non-null    float64\n",
      " 22  22      299 non-null    float64\n",
      " 23  23      300 non-null    int64  \n",
      " 24  24      300 non-null    int64  \n",
      " 25  25      300 non-null    int64  \n",
      " 26  26      300 non-null    int64  \n",
      " 27  27      300 non-null    int64  \n",
      "dtypes: float64(21), int64(7)\n",
      "memory usage: 65.8 KB\n"
     ]
    }
   ],
   "source": [
    "dataframe.info()"
   ]
  },
  {
   "cell_type": "code",
   "execution_count": 25,
   "id": "16d8f915-51cb-48db-b6e8-8c1ac766927b",
   "metadata": {},
   "outputs": [
    {
     "data": {
      "text/html": [
       "<div>\n",
       "<style scoped>\n",
       "    .dataframe tbody tr th:only-of-type {\n",
       "        vertical-align: middle;\n",
       "    }\n",
       "\n",
       "    .dataframe tbody tr th {\n",
       "        vertical-align: top;\n",
       "    }\n",
       "\n",
       "    .dataframe thead th {\n",
       "        text-align: right;\n",
       "    }\n",
       "</style>\n",
       "<table border=\"1\" class=\"dataframe\">\n",
       "  <thead>\n",
       "    <tr style=\"text-align: right;\">\n",
       "      <th></th>\n",
       "      <th>0</th>\n",
       "      <th>1</th>\n",
       "      <th>2</th>\n",
       "      <th>3</th>\n",
       "      <th>4</th>\n",
       "      <th>5</th>\n",
       "      <th>6</th>\n",
       "      <th>7</th>\n",
       "      <th>8</th>\n",
       "      <th>9</th>\n",
       "      <th>...</th>\n",
       "      <th>18</th>\n",
       "      <th>19</th>\n",
       "      <th>20</th>\n",
       "      <th>21</th>\n",
       "      <th>22</th>\n",
       "      <th>23</th>\n",
       "      <th>24</th>\n",
       "      <th>25</th>\n",
       "      <th>26</th>\n",
       "      <th>27</th>\n",
       "    </tr>\n",
       "  </thead>\n",
       "  <tbody>\n",
       "    <tr>\n",
       "      <th>count</th>\n",
       "      <td>299.000000</td>\n",
       "      <td>300.000000</td>\n",
       "      <td>3.000000e+02</td>\n",
       "      <td>240.000000</td>\n",
       "      <td>276.000000</td>\n",
       "      <td>242.000000</td>\n",
       "      <td>244.000000</td>\n",
       "      <td>231.000000</td>\n",
       "      <td>253.000000</td>\n",
       "      <td>268.000000</td>\n",
       "      <td>...</td>\n",
       "      <td>271.000000</td>\n",
       "      <td>267.000000</td>\n",
       "      <td>135.000000</td>\n",
       "      <td>102.000000</td>\n",
       "      <td>299.000000</td>\n",
       "      <td>300.000000</td>\n",
       "      <td>300.000000</td>\n",
       "      <td>300.000000</td>\n",
       "      <td>300.000000</td>\n",
       "      <td>300.000000</td>\n",
       "    </tr>\n",
       "    <tr>\n",
       "      <th>mean</th>\n",
       "      <td>1.397993</td>\n",
       "      <td>1.640000</td>\n",
       "      <td>1.085889e+06</td>\n",
       "      <td>38.167917</td>\n",
       "      <td>71.913043</td>\n",
       "      <td>30.417355</td>\n",
       "      <td>2.348361</td>\n",
       "      <td>2.017316</td>\n",
       "      <td>2.853755</td>\n",
       "      <td>1.305970</td>\n",
       "      <td>...</td>\n",
       "      <td>46.295203</td>\n",
       "      <td>24.456929</td>\n",
       "      <td>2.037037</td>\n",
       "      <td>3.019608</td>\n",
       "      <td>1.551839</td>\n",
       "      <td>1.363333</td>\n",
       "      <td>3657.880000</td>\n",
       "      <td>90.226667</td>\n",
       "      <td>7.363333</td>\n",
       "      <td>1.670000</td>\n",
       "    </tr>\n",
       "    <tr>\n",
       "      <th>std</th>\n",
       "      <td>0.490305</td>\n",
       "      <td>2.173972</td>\n",
       "      <td>1.529801e+06</td>\n",
       "      <td>0.732289</td>\n",
       "      <td>28.630557</td>\n",
       "      <td>17.642231</td>\n",
       "      <td>1.045054</td>\n",
       "      <td>1.042428</td>\n",
       "      <td>1.620294</td>\n",
       "      <td>0.477629</td>\n",
       "      <td>...</td>\n",
       "      <td>10.419335</td>\n",
       "      <td>27.475009</td>\n",
       "      <td>0.804905</td>\n",
       "      <td>1.968567</td>\n",
       "      <td>0.737187</td>\n",
       "      <td>0.481763</td>\n",
       "      <td>5399.513513</td>\n",
       "      <td>649.569234</td>\n",
       "      <td>127.536674</td>\n",
       "      <td>0.470998</td>\n",
       "    </tr>\n",
       "    <tr>\n",
       "      <th>min</th>\n",
       "      <td>1.000000</td>\n",
       "      <td>1.000000</td>\n",
       "      <td>5.184760e+05</td>\n",
       "      <td>35.400000</td>\n",
       "      <td>30.000000</td>\n",
       "      <td>8.000000</td>\n",
       "      <td>1.000000</td>\n",
       "      <td>1.000000</td>\n",
       "      <td>1.000000</td>\n",
       "      <td>1.000000</td>\n",
       "      <td>...</td>\n",
       "      <td>23.000000</td>\n",
       "      <td>3.300000</td>\n",
       "      <td>1.000000</td>\n",
       "      <td>0.100000</td>\n",
       "      <td>1.000000</td>\n",
       "      <td>1.000000</td>\n",
       "      <td>0.000000</td>\n",
       "      <td>0.000000</td>\n",
       "      <td>0.000000</td>\n",
       "      <td>1.000000</td>\n",
       "    </tr>\n",
       "    <tr>\n",
       "      <th>25%</th>\n",
       "      <td>1.000000</td>\n",
       "      <td>1.000000</td>\n",
       "      <td>5.289040e+05</td>\n",
       "      <td>37.800000</td>\n",
       "      <td>48.000000</td>\n",
       "      <td>18.500000</td>\n",
       "      <td>1.000000</td>\n",
       "      <td>1.000000</td>\n",
       "      <td>1.000000</td>\n",
       "      <td>1.000000</td>\n",
       "      <td>...</td>\n",
       "      <td>38.000000</td>\n",
       "      <td>6.500000</td>\n",
       "      <td>1.000000</td>\n",
       "      <td>2.000000</td>\n",
       "      <td>1.000000</td>\n",
       "      <td>1.000000</td>\n",
       "      <td>2111.750000</td>\n",
       "      <td>0.000000</td>\n",
       "      <td>0.000000</td>\n",
       "      <td>1.000000</td>\n",
       "    </tr>\n",
       "    <tr>\n",
       "      <th>50%</th>\n",
       "      <td>1.000000</td>\n",
       "      <td>1.000000</td>\n",
       "      <td>5.303055e+05</td>\n",
       "      <td>38.200000</td>\n",
       "      <td>64.000000</td>\n",
       "      <td>24.500000</td>\n",
       "      <td>3.000000</td>\n",
       "      <td>2.000000</td>\n",
       "      <td>3.000000</td>\n",
       "      <td>1.000000</td>\n",
       "      <td>...</td>\n",
       "      <td>45.000000</td>\n",
       "      <td>7.500000</td>\n",
       "      <td>2.000000</td>\n",
       "      <td>2.250000</td>\n",
       "      <td>1.000000</td>\n",
       "      <td>1.000000</td>\n",
       "      <td>2673.500000</td>\n",
       "      <td>0.000000</td>\n",
       "      <td>0.000000</td>\n",
       "      <td>2.000000</td>\n",
       "    </tr>\n",
       "    <tr>\n",
       "      <th>75%</th>\n",
       "      <td>2.000000</td>\n",
       "      <td>1.000000</td>\n",
       "      <td>5.347275e+05</td>\n",
       "      <td>38.500000</td>\n",
       "      <td>88.000000</td>\n",
       "      <td>36.000000</td>\n",
       "      <td>3.000000</td>\n",
       "      <td>3.000000</td>\n",
       "      <td>4.000000</td>\n",
       "      <td>2.000000</td>\n",
       "      <td>...</td>\n",
       "      <td>52.000000</td>\n",
       "      <td>57.000000</td>\n",
       "      <td>3.000000</td>\n",
       "      <td>3.900000</td>\n",
       "      <td>2.000000</td>\n",
       "      <td>2.000000</td>\n",
       "      <td>3209.000000</td>\n",
       "      <td>0.000000</td>\n",
       "      <td>0.000000</td>\n",
       "      <td>2.000000</td>\n",
       "    </tr>\n",
       "    <tr>\n",
       "      <th>max</th>\n",
       "      <td>2.000000</td>\n",
       "      <td>9.000000</td>\n",
       "      <td>5.305629e+06</td>\n",
       "      <td>40.800000</td>\n",
       "      <td>184.000000</td>\n",
       "      <td>96.000000</td>\n",
       "      <td>4.000000</td>\n",
       "      <td>4.000000</td>\n",
       "      <td>6.000000</td>\n",
       "      <td>3.000000</td>\n",
       "      <td>...</td>\n",
       "      <td>75.000000</td>\n",
       "      <td>89.000000</td>\n",
       "      <td>3.000000</td>\n",
       "      <td>10.100000</td>\n",
       "      <td>3.000000</td>\n",
       "      <td>2.000000</td>\n",
       "      <td>41110.000000</td>\n",
       "      <td>7111.000000</td>\n",
       "      <td>2209.000000</td>\n",
       "      <td>2.000000</td>\n",
       "    </tr>\n",
       "  </tbody>\n",
       "</table>\n",
       "<p>8 rows × 28 columns</p>\n",
       "</div>"
      ],
      "text/plain": [
       "               0           1             2           3           4   \\\n",
       "count  299.000000  300.000000  3.000000e+02  240.000000  276.000000   \n",
       "mean     1.397993    1.640000  1.085889e+06   38.167917   71.913043   \n",
       "std      0.490305    2.173972  1.529801e+06    0.732289   28.630557   \n",
       "min      1.000000    1.000000  5.184760e+05   35.400000   30.000000   \n",
       "25%      1.000000    1.000000  5.289040e+05   37.800000   48.000000   \n",
       "50%      1.000000    1.000000  5.303055e+05   38.200000   64.000000   \n",
       "75%      2.000000    1.000000  5.347275e+05   38.500000   88.000000   \n",
       "max      2.000000    9.000000  5.305629e+06   40.800000  184.000000   \n",
       "\n",
       "               5           6           7           8           9   ...  \\\n",
       "count  242.000000  244.000000  231.000000  253.000000  268.000000  ...   \n",
       "mean    30.417355    2.348361    2.017316    2.853755    1.305970  ...   \n",
       "std     17.642231    1.045054    1.042428    1.620294    0.477629  ...   \n",
       "min      8.000000    1.000000    1.000000    1.000000    1.000000  ...   \n",
       "25%     18.500000    1.000000    1.000000    1.000000    1.000000  ...   \n",
       "50%     24.500000    3.000000    2.000000    3.000000    1.000000  ...   \n",
       "75%     36.000000    3.000000    3.000000    4.000000    2.000000  ...   \n",
       "max     96.000000    4.000000    4.000000    6.000000    3.000000  ...   \n",
       "\n",
       "               18          19          20          21          22          23  \\\n",
       "count  271.000000  267.000000  135.000000  102.000000  299.000000  300.000000   \n",
       "mean    46.295203   24.456929    2.037037    3.019608    1.551839    1.363333   \n",
       "std     10.419335   27.475009    0.804905    1.968567    0.737187    0.481763   \n",
       "min     23.000000    3.300000    1.000000    0.100000    1.000000    1.000000   \n",
       "25%     38.000000    6.500000    1.000000    2.000000    1.000000    1.000000   \n",
       "50%     45.000000    7.500000    2.000000    2.250000    1.000000    1.000000   \n",
       "75%     52.000000   57.000000    3.000000    3.900000    2.000000    2.000000   \n",
       "max     75.000000   89.000000    3.000000   10.100000    3.000000    2.000000   \n",
       "\n",
       "                 24           25           26          27  \n",
       "count    300.000000   300.000000   300.000000  300.000000  \n",
       "mean    3657.880000    90.226667     7.363333    1.670000  \n",
       "std     5399.513513   649.569234   127.536674    0.470998  \n",
       "min        0.000000     0.000000     0.000000    1.000000  \n",
       "25%     2111.750000     0.000000     0.000000    1.000000  \n",
       "50%     2673.500000     0.000000     0.000000    2.000000  \n",
       "75%     3209.000000     0.000000     0.000000    2.000000  \n",
       "max    41110.000000  7111.000000  2209.000000    2.000000  \n",
       "\n",
       "[8 rows x 28 columns]"
      ]
     },
     "execution_count": 25,
     "metadata": {},
     "output_type": "execute_result"
    }
   ],
   "source": [
    "dataframe.describe()"
   ]
  },
  {
   "cell_type": "code",
   "execution_count": 26,
   "id": "ad990a6b-f417-40f7-a593-7006fed8bd91",
   "metadata": {},
   "outputs": [
    {
     "data": {
      "text/plain": [
       "0       1\n",
       "1       0\n",
       "2       0\n",
       "3      60\n",
       "4      24\n",
       "5      58\n",
       "6      56\n",
       "7      69\n",
       "8      47\n",
       "9      32\n",
       "10     55\n",
       "11     44\n",
       "12     56\n",
       "13    104\n",
       "14    106\n",
       "15    247\n",
       "16    102\n",
       "17    118\n",
       "18     29\n",
       "19     33\n",
       "20    165\n",
       "21    198\n",
       "22      1\n",
       "23      0\n",
       "24      0\n",
       "25      0\n",
       "26      0\n",
       "27      0\n",
       "dtype: int64"
      ]
     },
     "execution_count": 26,
     "metadata": {},
     "output_type": "execute_result"
    }
   ],
   "source": [
    "dataframe.isnull().sum()"
   ]
  },
  {
   "cell_type": "code",
   "execution_count": 27,
   "id": "53308c2a-7374-4d19-8f30-11ce7f558246",
   "metadata": {},
   "outputs": [],
   "source": [
    "# split into input and output elements\n",
    "data = dataframe.values\n",
    "ix = [i for i in range(data.shape[1]) if i != 23]\n",
    "X, y = data[:, ix], data[:, 23]"
   ]
  },
  {
   "cell_type": "code",
   "execution_count": 28,
   "id": "ed32ce10-5c98-4208-9ed2-3b32fa5fc27a",
   "metadata": {},
   "outputs": [
    {
     "name": "stdout",
     "output_type": "stream",
     "text": [
      "Missing: 1605\n"
     ]
    }
   ],
   "source": [
    "# print total missing\n",
    "print('Missing: %d' % sum(isnan(X).flatten()))\n"
   ]
  },
  {
   "cell_type": "code",
   "execution_count": 29,
   "id": "e7cc54c2-d564-428b-a656-47e23e80752b",
   "metadata": {},
   "outputs": [],
   "source": [
    "# define imputer\n",
    "#imputer = SimpleImputer(strategy='mean')\n",
    "#결측지를 most freqent로 바꿈(컬럼에서 빈도수가 제일 높은거)\n",
    "#imputer = SimpleImputer(strategy='most_frequent')\n",
    "#결측지를 median으로 처리\n",
    "imputer = SimpleImputer(strategy='median')"
   ]
  },
  {
   "cell_type": "code",
   "execution_count": 30,
   "id": "9703f21b-2e16-4ac0-a316-541705f2b7ed",
   "metadata": {},
   "outputs": [
    {
     "data": {
      "text/plain": [
       "SimpleImputer(strategy='median')"
      ]
     },
     "execution_count": 30,
     "metadata": {},
     "output_type": "execute_result"
    }
   ],
   "source": [
    "# fit on the dataset\n",
    "imputer.fit(X)"
   ]
  },
  {
   "cell_type": "code",
   "execution_count": 31,
   "id": "26d92a9a-fa65-4787-83d7-8a753f729322",
   "metadata": {},
   "outputs": [],
   "source": [
    "# transform the dataset\n",
    "Xtrans = imputer.transform(X)"
   ]
  },
  {
   "cell_type": "code",
   "execution_count": 32,
   "id": "6dd7665c-8541-4b69-80d4-e732ce10db25",
   "metadata": {},
   "outputs": [
    {
     "name": "stdout",
     "output_type": "stream",
     "text": [
      "Missing: 0\n"
     ]
    }
   ],
   "source": [
    "# print total missing\n",
    "print('Missing: %d' % sum(isnan(Xtrans).flatten()))"
   ]
  },
  {
   "cell_type": "code",
   "execution_count": 33,
   "id": "92e28f11-743d-4af1-b24c-285fd45baaab",
   "metadata": {},
   "outputs": [
    {
     "data": {
      "text/plain": [
       "array([2.00000e+00, 1.00000e+00, 5.30101e+05, 3.85000e+01, 6.60000e+01,\n",
       "       2.80000e+01, 3.00000e+00, 3.00000e+00, 3.00000e+00, 2.00000e+00,\n",
       "       5.00000e+00, 4.00000e+00, 4.00000e+00, 2.00000e+00, 1.00000e+00,\n",
       "       5.00000e+00, 3.00000e+00, 5.00000e+00, 4.50000e+01, 8.40000e+00,\n",
       "       2.00000e+00, 2.25000e+00, 2.00000e+00, 1.13000e+04, 0.00000e+00,\n",
       "       0.00000e+00, 2.00000e+00])"
      ]
     },
     "execution_count": 33,
     "metadata": {},
     "output_type": "execute_result"
    }
   ],
   "source": [
    "Xtrans[0,:] #확인해보니 row의 평균값으로 다 바뀜"
   ]
  },
  {
   "cell_type": "code",
   "execution_count": 34,
   "id": "6a849d47-5e75-458d-afe3-5c9aa3995b05",
   "metadata": {},
   "outputs": [],
   "source": [
    "#df=pd.Xtrans"
   ]
  },
  {
   "cell_type": "code",
   "execution_count": 35,
   "id": "0e915feb-547d-4b4b-895b-ad9cfc5d0887",
   "metadata": {},
   "outputs": [
    {
     "ename": "AttributeError",
     "evalue": "'numpy.ndarray' object has no attribute 'isnull'",
     "output_type": "error",
     "traceback": [
      "\u001b[1;31m---------------------------------------------------------------------------\u001b[0m",
      "\u001b[1;31mAttributeError\u001b[0m                            Traceback (most recent call last)",
      "\u001b[1;32m<ipython-input-35-6518c5ec6e19>\u001b[0m in \u001b[0;36m<module>\u001b[1;34m\u001b[0m\n\u001b[1;32m----> 1\u001b[1;33m \u001b[0mXtrans\u001b[0m\u001b[1;33m.\u001b[0m\u001b[0misnull\u001b[0m\u001b[1;33m(\u001b[0m\u001b[1;33m)\u001b[0m\u001b[1;33m.\u001b[0m\u001b[0msum\u001b[0m\u001b[1;33m(\u001b[0m\u001b[1;33m)\u001b[0m\u001b[1;33m\u001b[0m\u001b[1;33m\u001b[0m\u001b[0m\n\u001b[0m",
      "\u001b[1;31mAttributeError\u001b[0m: 'numpy.ndarray' object has no attribute 'isnull'"
     ]
    }
   ],
   "source": [
    "Xtrans.isnull().sum()"
   ]
  },
  {
   "cell_type": "code",
   "execution_count": null,
   "id": "cf8fc21f-8fe0-435e-9b74-24d59893fd42",
   "metadata": {},
   "outputs": [],
   "source": []
  }
 ],
 "metadata": {
  "kernelspec": {
   "display_name": "Python Multi",
   "language": "python",
   "name": "multi"
  },
  "language_info": {
   "codemirror_mode": {
    "name": "ipython",
    "version": 3
   },
   "file_extension": ".py",
   "mimetype": "text/x-python",
   "name": "python",
   "nbconvert_exporter": "python",
   "pygments_lexer": "ipython3",
   "version": "3.7.6"
  }
 },
 "nbformat": 4,
 "nbformat_minor": 5
}
